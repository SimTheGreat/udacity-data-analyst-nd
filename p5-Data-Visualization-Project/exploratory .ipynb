{
 "cells": [
  {
   "cell_type": "markdown",
   "metadata": {
    "slideshow": {
     "slide_type": "slide"
    }
   },
   "source": [
    "# Flight Data Exploration"
   ]
  },
  {
   "cell_type": "markdown",
   "metadata": {
    "slideshow": {
     "slide_type": "subslide"
    }
   },
   "source": [
    "by Samriddhi Singh"
   ]
  },
  {
   "cell_type": "code",
   "execution_count": 96,
   "metadata": {
    "slideshow": {
     "slide_type": "slide"
    }
   },
   "outputs": [
    {
     "name": "stdout",
     "output_type": "stream",
     "text": [
      "import compleate\n"
     ]
    }
   ],
   "source": [
    "#import all needed modules\n",
    "import pandas as pd\n",
    "import numpy as np\n",
    "import seaborn as sb\n",
    "import matplotlib.pyplot as plt\n",
    "%matplotlib inline\n",
    "print('import compleate')"
   ]
  },
  {
   "cell_type": "code",
   "execution_count": 97,
   "metadata": {
    "slideshow": {
     "slide_type": "slide"
    }
   },
   "outputs": [],
   "source": [
    "df_f=pd.read_csv('airline_delay_causes.csv')"
   ]
  },
  {
   "cell_type": "markdown",
   "metadata": {
    "slideshow": {
     "slide_type": "slide"
    }
   },
   "source": [
    "# datasets structure"
   ]
  },
  {
   "cell_type": "markdown",
   "metadata": {
    "slideshow": {
     "slide_type": "subslide"
    }
   },
   "source": [
    "<ol>\n",
    "<li>year\n",
    "<li>month\n",
    "<li>carrier unique airline company code\n",
    "<li>carrier_name airline company name\n",
    "<li>airport destination airport, airport ID\n",
    "<li>airport_name destination airport, airport name\n",
    "<li>arr_flights number of flights arrived to airport (for given month)\n",
    "<li>arr_del15 number of flights delayed at least 15 min (for given month)\n",
    "<li>carrier_ct number of flights delayed due to air carrier, e.g. maintenance or crew problems, aircraft cleaning, baggage loading, fueling, etc. (for given month)\n",
    "<li>weather_ct number of flights delayed due to weather conditions (for given month)\n",
    "<li>nas_ct number of flights delayed due to National Aviation System, e.g. non-extreme weather conditions, airport operations, heavy traffic volume, and air traffic control (for given month)\n",
    "<li>security_ct number of flights delayed due to security, e.g. evacuation of a terminal or concourse, re-boarding of aircraft because of security breach, inoperative screening equipment and/or long lines in excess of 29 minutes at screening areas (for given month)\n",
    "<li>late_aircraft_ct number of flights delayed due to a previous flight using the same aircraft being late (for given month)\n",
    "<li>arr_cancelled number of calcelled flights (for given month)\n",
    "<li>arr_diverted number of diverted flights (for given month)\n",
    "<li>arr_delay total delay time of arrived flights (in minutes)\n",
    "<li>carrier_delay total delay time of arrived flights due to air carrier (in minutes)\n",
    "<li>weather_delay total delay time of arrived flights due to weather (in minutes)\n",
    "<li>nas_delay total delay time of arrived flights due to National Aviation System (in minutes)\n",
    "<li>security_delay total delay time of arrived flights due to security (in minutes)\n",
    "<li>late_aircraft_delay total delay time of arrived flights due to a previous flight using the same aircraft being late (in minutes)\n",
    "\n",
    "<ol>"
   ]
  },
  {
   "cell_type": "markdown",
   "metadata": {
    "slideshow": {
     "slide_type": "slide"
    }
   },
   "source": [
    "# my interessts"
   ]
  },
  {
   "cell_type": "code",
   "execution_count": null,
   "metadata": {},
   "outputs": [],
   "source": []
  },
  {
   "cell_type": "raw",
   "metadata": {
    "slideshow": {
     "slide_type": "subslide"
    }
   },
   "source": [
    "1) I am inerested in the most common types of carriers<br>\n",
    "2) how often a delay happens<br>\n",
    "3) what the most famous airports for delays there are<br>\n",
    "4) corrolations between delays\n",
    "5)ct reasons"
   ]
  },
  {
   "cell_type": "markdown",
   "metadata": {
    "slideshow": {
     "slide_type": "slide"
    }
   },
   "source": [
    "# what features help my support my interessts?"
   ]
  },
  {
   "cell_type": "markdown",
   "metadata": {
    "slideshow": {
     "slide_type": "subslide"
    }
   },
   "source": [
    "the column arr_flights carrier and carrier name are going to help me the most"
   ]
  },
  {
   "cell_type": "markdown",
   "metadata": {
    "slideshow": {
     "slide_type": "slide"
    }
   },
   "source": [
    "# data assessing"
   ]
  },
  {
   "cell_type": "code",
   "execution_count": 98,
   "metadata": {
    "slideshow": {
     "slide_type": "slide"
    }
   },
   "outputs": [
    {
     "data": {
      "text/html": [
       "<div>\n",
       "<style scoped>\n",
       "    .dataframe tbody tr th:only-of-type {\n",
       "        vertical-align: middle;\n",
       "    }\n",
       "\n",
       "    .dataframe tbody tr th {\n",
       "        vertical-align: top;\n",
       "    }\n",
       "\n",
       "    .dataframe thead th {\n",
       "        text-align: right;\n",
       "    }\n",
       "</style>\n",
       "<table border=\"1\" class=\"dataframe\">\n",
       "  <thead>\n",
       "    <tr style=\"text-align: right;\">\n",
       "      <th></th>\n",
       "      <th>year</th>\n",
       "      <th>month</th>\n",
       "      <th>carrier</th>\n",
       "      <th>carrier_name</th>\n",
       "      <th>airport</th>\n",
       "      <th>airport_name</th>\n",
       "      <th>arr_flights</th>\n",
       "      <th>arr_del15</th>\n",
       "      <th>carrier_ct</th>\n",
       "      <th>weather_ct</th>\n",
       "      <th>...</th>\n",
       "      <th>late_aircraft_ct</th>\n",
       "      <th>arr_cancelled</th>\n",
       "      <th>arr_diverted</th>\n",
       "      <th>arr_delay</th>\n",
       "      <th>carrier_delay</th>\n",
       "      <th>weather_delay</th>\n",
       "      <th>nas_delay</th>\n",
       "      <th>security_delay</th>\n",
       "      <th>late_aircraft_delay</th>\n",
       "      <th>Unnamed: 21</th>\n",
       "    </tr>\n",
       "  </thead>\n",
       "  <tbody>\n",
       "    <tr>\n",
       "      <th>0</th>\n",
       "      <td>2020</td>\n",
       "      <td>4</td>\n",
       "      <td>9E</td>\n",
       "      <td>Endeavor Air Inc.</td>\n",
       "      <td>AEX</td>\n",
       "      <td>Alexandria, LA: Alexandria International</td>\n",
       "      <td>47.0</td>\n",
       "      <td>5.0</td>\n",
       "      <td>1.78</td>\n",
       "      <td>0.00</td>\n",
       "      <td>...</td>\n",
       "      <td>0.00</td>\n",
       "      <td>6.0</td>\n",
       "      <td>0.0</td>\n",
       "      <td>172.0</td>\n",
       "      <td>104.0</td>\n",
       "      <td>0.0</td>\n",
       "      <td>68.0</td>\n",
       "      <td>0.0</td>\n",
       "      <td>0.0</td>\n",
       "      <td>NaN</td>\n",
       "    </tr>\n",
       "    <tr>\n",
       "      <th>1</th>\n",
       "      <td>2020</td>\n",
       "      <td>4</td>\n",
       "      <td>9E</td>\n",
       "      <td>Endeavor Air Inc.</td>\n",
       "      <td>AGS</td>\n",
       "      <td>Augusta, GA: Augusta Regional at Bush Field</td>\n",
       "      <td>86.0</td>\n",
       "      <td>4.0</td>\n",
       "      <td>1.97</td>\n",
       "      <td>0.00</td>\n",
       "      <td>...</td>\n",
       "      <td>0.93</td>\n",
       "      <td>15.0</td>\n",
       "      <td>0.0</td>\n",
       "      <td>277.0</td>\n",
       "      <td>180.0</td>\n",
       "      <td>0.0</td>\n",
       "      <td>35.0</td>\n",
       "      <td>0.0</td>\n",
       "      <td>62.0</td>\n",
       "      <td>NaN</td>\n",
       "    </tr>\n",
       "    <tr>\n",
       "      <th>2</th>\n",
       "      <td>2020</td>\n",
       "      <td>4</td>\n",
       "      <td>9E</td>\n",
       "      <td>Endeavor Air Inc.</td>\n",
       "      <td>ALB</td>\n",
       "      <td>Albany, NY: Albany International</td>\n",
       "      <td>1.0</td>\n",
       "      <td>0.0</td>\n",
       "      <td>0.00</td>\n",
       "      <td>0.00</td>\n",
       "      <td>...</td>\n",
       "      <td>0.00</td>\n",
       "      <td>0.0</td>\n",
       "      <td>0.0</td>\n",
       "      <td>0.0</td>\n",
       "      <td>0.0</td>\n",
       "      <td>0.0</td>\n",
       "      <td>0.0</td>\n",
       "      <td>0.0</td>\n",
       "      <td>0.0</td>\n",
       "      <td>NaN</td>\n",
       "    </tr>\n",
       "    <tr>\n",
       "      <th>3</th>\n",
       "      <td>2020</td>\n",
       "      <td>4</td>\n",
       "      <td>9E</td>\n",
       "      <td>Endeavor Air Inc.</td>\n",
       "      <td>ATL</td>\n",
       "      <td>Atlanta, GA: Hartsfield-Jackson Atlanta Intern...</td>\n",
       "      <td>1314.0</td>\n",
       "      <td>56.0</td>\n",
       "      <td>36.33</td>\n",
       "      <td>2.45</td>\n",
       "      <td>...</td>\n",
       "      <td>9.33</td>\n",
       "      <td>288.0</td>\n",
       "      <td>1.0</td>\n",
       "      <td>4619.0</td>\n",
       "      <td>3437.0</td>\n",
       "      <td>251.0</td>\n",
       "      <td>270.0</td>\n",
       "      <td>0.0</td>\n",
       "      <td>661.0</td>\n",
       "      <td>NaN</td>\n",
       "    </tr>\n",
       "    <tr>\n",
       "      <th>4</th>\n",
       "      <td>2020</td>\n",
       "      <td>4</td>\n",
       "      <td>9E</td>\n",
       "      <td>Endeavor Air Inc.</td>\n",
       "      <td>ATW</td>\n",
       "      <td>Appleton, WI: Appleton International</td>\n",
       "      <td>1.0</td>\n",
       "      <td>0.0</td>\n",
       "      <td>0.00</td>\n",
       "      <td>0.00</td>\n",
       "      <td>...</td>\n",
       "      <td>0.00</td>\n",
       "      <td>0.0</td>\n",
       "      <td>0.0</td>\n",
       "      <td>0.0</td>\n",
       "      <td>0.0</td>\n",
       "      <td>0.0</td>\n",
       "      <td>0.0</td>\n",
       "      <td>0.0</td>\n",
       "      <td>0.0</td>\n",
       "      <td>NaN</td>\n",
       "    </tr>\n",
       "    <tr>\n",
       "      <th>...</th>\n",
       "      <td>...</td>\n",
       "      <td>...</td>\n",
       "      <td>...</td>\n",
       "      <td>...</td>\n",
       "      <td>...</td>\n",
       "      <td>...</td>\n",
       "      <td>...</td>\n",
       "      <td>...</td>\n",
       "      <td>...</td>\n",
       "      <td>...</td>\n",
       "      <td>...</td>\n",
       "      <td>...</td>\n",
       "      <td>...</td>\n",
       "      <td>...</td>\n",
       "      <td>...</td>\n",
       "      <td>...</td>\n",
       "      <td>...</td>\n",
       "      <td>...</td>\n",
       "      <td>...</td>\n",
       "      <td>...</td>\n",
       "      <td>...</td>\n",
       "    </tr>\n",
       "    <tr>\n",
       "      <th>1646</th>\n",
       "      <td>2020</td>\n",
       "      <td>4</td>\n",
       "      <td>YX</td>\n",
       "      <td>Republic Airline</td>\n",
       "      <td>TPA</td>\n",
       "      <td>Tampa, FL: Tampa International</td>\n",
       "      <td>12.0</td>\n",
       "      <td>0.0</td>\n",
       "      <td>0.00</td>\n",
       "      <td>0.00</td>\n",
       "      <td>...</td>\n",
       "      <td>0.00</td>\n",
       "      <td>8.0</td>\n",
       "      <td>0.0</td>\n",
       "      <td>0.0</td>\n",
       "      <td>0.0</td>\n",
       "      <td>0.0</td>\n",
       "      <td>0.0</td>\n",
       "      <td>0.0</td>\n",
       "      <td>0.0</td>\n",
       "      <td>NaN</td>\n",
       "    </tr>\n",
       "    <tr>\n",
       "      <th>1647</th>\n",
       "      <td>2020</td>\n",
       "      <td>4</td>\n",
       "      <td>YX</td>\n",
       "      <td>Republic Airline</td>\n",
       "      <td>TUS</td>\n",
       "      <td>Tucson, AZ: Tucson International</td>\n",
       "      <td>30.0</td>\n",
       "      <td>0.0</td>\n",
       "      <td>0.00</td>\n",
       "      <td>0.00</td>\n",
       "      <td>...</td>\n",
       "      <td>0.00</td>\n",
       "      <td>1.0</td>\n",
       "      <td>0.0</td>\n",
       "      <td>0.0</td>\n",
       "      <td>0.0</td>\n",
       "      <td>0.0</td>\n",
       "      <td>0.0</td>\n",
       "      <td>0.0</td>\n",
       "      <td>0.0</td>\n",
       "      <td>NaN</td>\n",
       "    </tr>\n",
       "    <tr>\n",
       "      <th>1648</th>\n",
       "      <td>2020</td>\n",
       "      <td>4</td>\n",
       "      <td>YX</td>\n",
       "      <td>Republic Airline</td>\n",
       "      <td>TYS</td>\n",
       "      <td>Knoxville, TN: McGhee Tyson</td>\n",
       "      <td>74.0</td>\n",
       "      <td>1.0</td>\n",
       "      <td>0.00</td>\n",
       "      <td>0.00</td>\n",
       "      <td>...</td>\n",
       "      <td>1.00</td>\n",
       "      <td>31.0</td>\n",
       "      <td>0.0</td>\n",
       "      <td>41.0</td>\n",
       "      <td>0.0</td>\n",
       "      <td>0.0</td>\n",
       "      <td>0.0</td>\n",
       "      <td>0.0</td>\n",
       "      <td>41.0</td>\n",
       "      <td>NaN</td>\n",
       "    </tr>\n",
       "    <tr>\n",
       "      <th>1649</th>\n",
       "      <td>2020</td>\n",
       "      <td>4</td>\n",
       "      <td>YX</td>\n",
       "      <td>Republic Airline</td>\n",
       "      <td>VPS</td>\n",
       "      <td>Valparaiso, FL: Eglin AFB Destin Fort Walton B...</td>\n",
       "      <td>6.0</td>\n",
       "      <td>1.0</td>\n",
       "      <td>0.00</td>\n",
       "      <td>0.00</td>\n",
       "      <td>...</td>\n",
       "      <td>0.00</td>\n",
       "      <td>2.0</td>\n",
       "      <td>0.0</td>\n",
       "      <td>59.0</td>\n",
       "      <td>0.0</td>\n",
       "      <td>0.0</td>\n",
       "      <td>59.0</td>\n",
       "      <td>0.0</td>\n",
       "      <td>0.0</td>\n",
       "      <td>NaN</td>\n",
       "    </tr>\n",
       "    <tr>\n",
       "      <th>1650</th>\n",
       "      <td>2020</td>\n",
       "      <td>4</td>\n",
       "      <td>YX</td>\n",
       "      <td>Republic Airline</td>\n",
       "      <td>XNA</td>\n",
       "      <td>Fayetteville, AR: Northwest Arkansas Regional</td>\n",
       "      <td>110.0</td>\n",
       "      <td>1.0</td>\n",
       "      <td>0.87</td>\n",
       "      <td>0.00</td>\n",
       "      <td>...</td>\n",
       "      <td>0.00</td>\n",
       "      <td>36.0</td>\n",
       "      <td>0.0</td>\n",
       "      <td>30.0</td>\n",
       "      <td>26.0</td>\n",
       "      <td>0.0</td>\n",
       "      <td>4.0</td>\n",
       "      <td>0.0</td>\n",
       "      <td>0.0</td>\n",
       "      <td>NaN</td>\n",
       "    </tr>\n",
       "  </tbody>\n",
       "</table>\n",
       "<p>1651 rows × 22 columns</p>\n",
       "</div>"
      ],
      "text/plain": [
       "      year   month carrier       carrier_name airport  \\\n",
       "0     2020       4      9E  Endeavor Air Inc.     AEX   \n",
       "1     2020       4      9E  Endeavor Air Inc.     AGS   \n",
       "2     2020       4      9E  Endeavor Air Inc.     ALB   \n",
       "3     2020       4      9E  Endeavor Air Inc.     ATL   \n",
       "4     2020       4      9E  Endeavor Air Inc.     ATW   \n",
       "...    ...     ...     ...                ...     ...   \n",
       "1646  2020       4      YX   Republic Airline     TPA   \n",
       "1647  2020       4      YX   Republic Airline     TUS   \n",
       "1648  2020       4      YX   Republic Airline     TYS   \n",
       "1649  2020       4      YX   Republic Airline     VPS   \n",
       "1650  2020       4      YX   Republic Airline     XNA   \n",
       "\n",
       "                                           airport_name  arr_flights  \\\n",
       "0              Alexandria, LA: Alexandria International         47.0   \n",
       "1           Augusta, GA: Augusta Regional at Bush Field         86.0   \n",
       "2                      Albany, NY: Albany International          1.0   \n",
       "3     Atlanta, GA: Hartsfield-Jackson Atlanta Intern...       1314.0   \n",
       "4                  Appleton, WI: Appleton International          1.0   \n",
       "...                                                 ...          ...   \n",
       "1646                     Tampa, FL: Tampa International         12.0   \n",
       "1647                   Tucson, AZ: Tucson International         30.0   \n",
       "1648                        Knoxville, TN: McGhee Tyson         74.0   \n",
       "1649  Valparaiso, FL: Eglin AFB Destin Fort Walton B...          6.0   \n",
       "1650      Fayetteville, AR: Northwest Arkansas Regional        110.0   \n",
       "\n",
       "      arr_del15  carrier_ct   weather_ct  ...  late_aircraft_ct  \\\n",
       "0           5.0        1.78         0.00  ...              0.00   \n",
       "1           4.0        1.97         0.00  ...              0.93   \n",
       "2           0.0        0.00         0.00  ...              0.00   \n",
       "3          56.0       36.33         2.45  ...              9.33   \n",
       "4           0.0        0.00         0.00  ...              0.00   \n",
       "...         ...         ...          ...  ...               ...   \n",
       "1646        0.0        0.00         0.00  ...              0.00   \n",
       "1647        0.0        0.00         0.00  ...              0.00   \n",
       "1648        1.0        0.00         0.00  ...              1.00   \n",
       "1649        1.0        0.00         0.00  ...              0.00   \n",
       "1650        1.0        0.87         0.00  ...              0.00   \n",
       "\n",
       "      arr_cancelled  arr_diverted   arr_delay   carrier_delay  weather_delay  \\\n",
       "0               6.0           0.0       172.0           104.0            0.0   \n",
       "1              15.0           0.0       277.0           180.0            0.0   \n",
       "2               0.0           0.0         0.0             0.0            0.0   \n",
       "3             288.0           1.0      4619.0          3437.0          251.0   \n",
       "4               0.0           0.0         0.0             0.0            0.0   \n",
       "...             ...           ...         ...             ...            ...   \n",
       "1646            8.0           0.0         0.0             0.0            0.0   \n",
       "1647            1.0           0.0         0.0             0.0            0.0   \n",
       "1648           31.0           0.0        41.0             0.0            0.0   \n",
       "1649            2.0           0.0        59.0             0.0            0.0   \n",
       "1650           36.0           0.0        30.0            26.0            0.0   \n",
       "\n",
       "      nas_delay  security_delay  late_aircraft_delay  Unnamed: 21  \n",
       "0          68.0             0.0                  0.0          NaN  \n",
       "1          35.0             0.0                 62.0          NaN  \n",
       "2           0.0             0.0                  0.0          NaN  \n",
       "3         270.0             0.0                661.0          NaN  \n",
       "4           0.0             0.0                  0.0          NaN  \n",
       "...         ...             ...                  ...          ...  \n",
       "1646        0.0             0.0                  0.0          NaN  \n",
       "1647        0.0             0.0                  0.0          NaN  \n",
       "1648        0.0             0.0                 41.0          NaN  \n",
       "1649       59.0             0.0                  0.0          NaN  \n",
       "1650        4.0             0.0                  0.0          NaN  \n",
       "\n",
       "[1651 rows x 22 columns]"
      ]
     },
     "execution_count": 98,
     "metadata": {},
     "output_type": "execute_result"
    }
   ],
   "source": [
    "df_f"
   ]
  },
  {
   "cell_type": "code",
   "execution_count": 99,
   "metadata": {
    "slideshow": {
     "slide_type": "subslide"
    }
   },
   "outputs": [
    {
     "name": "stdout",
     "output_type": "stream",
     "text": [
      "<class 'pandas.core.frame.DataFrame'>\n",
      "RangeIndex: 1651 entries, 0 to 1650\n",
      "Data columns (total 22 columns):\n",
      " #   Column               Non-Null Count  Dtype  \n",
      "---  ------               --------------  -----  \n",
      " 0   year                 1651 non-null   int64  \n",
      " 1    month               1651 non-null   int64  \n",
      " 2   carrier              1651 non-null   object \n",
      " 3   carrier_name         1651 non-null   object \n",
      " 4   airport              1651 non-null   object \n",
      " 5   airport_name         1651 non-null   object \n",
      " 6   arr_flights          1622 non-null   float64\n",
      " 7   arr_del15            1489 non-null   float64\n",
      " 8   carrier_ct           1622 non-null   float64\n",
      " 9    weather_ct          1622 non-null   float64\n",
      " 10  nas_ct               1622 non-null   float64\n",
      " 11  security_ct          1622 non-null   float64\n",
      " 12  late_aircraft_ct     1622 non-null   float64\n",
      " 13  arr_cancelled        1622 non-null   float64\n",
      " 14  arr_diverted         1622 non-null   float64\n",
      " 15   arr_delay           1622 non-null   float64\n",
      " 16   carrier_delay       1622 non-null   float64\n",
      " 17  weather_delay        1622 non-null   float64\n",
      " 18  nas_delay            1622 non-null   float64\n",
      " 19  security_delay       1622 non-null   float64\n",
      " 20  late_aircraft_delay  1622 non-null   float64\n",
      " 21  Unnamed: 21          0 non-null      float64\n",
      "dtypes: float64(16), int64(2), object(4)\n",
      "memory usage: 283.9+ KB\n"
     ]
    }
   ],
   "source": [
    "df_f.info()"
   ]
  },
  {
   "cell_type": "code",
   "execution_count": 100,
   "metadata": {
    "slideshow": {
     "slide_type": "subslide"
    }
   },
   "outputs": [
    {
     "data": {
      "text/html": [
       "<div>\n",
       "<style scoped>\n",
       "    .dataframe tbody tr th:only-of-type {\n",
       "        vertical-align: middle;\n",
       "    }\n",
       "\n",
       "    .dataframe tbody tr th {\n",
       "        vertical-align: top;\n",
       "    }\n",
       "\n",
       "    .dataframe thead th {\n",
       "        text-align: right;\n",
       "    }\n",
       "</style>\n",
       "<table border=\"1\" class=\"dataframe\">\n",
       "  <thead>\n",
       "    <tr style=\"text-align: right;\">\n",
       "      <th></th>\n",
       "      <th>year</th>\n",
       "      <th>month</th>\n",
       "      <th>arr_flights</th>\n",
       "      <th>arr_del15</th>\n",
       "      <th>carrier_ct</th>\n",
       "      <th>weather_ct</th>\n",
       "      <th>nas_ct</th>\n",
       "      <th>security_ct</th>\n",
       "      <th>late_aircraft_ct</th>\n",
       "      <th>arr_cancelled</th>\n",
       "      <th>arr_diverted</th>\n",
       "      <th>arr_delay</th>\n",
       "      <th>carrier_delay</th>\n",
       "      <th>weather_delay</th>\n",
       "      <th>nas_delay</th>\n",
       "      <th>security_delay</th>\n",
       "      <th>late_aircraft_delay</th>\n",
       "      <th>Unnamed: 21</th>\n",
       "    </tr>\n",
       "  </thead>\n",
       "  <tbody>\n",
       "    <tr>\n",
       "      <th>count</th>\n",
       "      <td>1651.0</td>\n",
       "      <td>1651.0</td>\n",
       "      <td>1622.000000</td>\n",
       "      <td>1489.000000</td>\n",
       "      <td>1622.000000</td>\n",
       "      <td>1622.000000</td>\n",
       "      <td>1622.000000</td>\n",
       "      <td>1622.000000</td>\n",
       "      <td>1622.000000</td>\n",
       "      <td>1622.000000</td>\n",
       "      <td>1622.000000</td>\n",
       "      <td>1622.000000</td>\n",
       "      <td>1622.000000</td>\n",
       "      <td>1622.000000</td>\n",
       "      <td>1622.000000</td>\n",
       "      <td>1622.000000</td>\n",
       "      <td>1622.000000</td>\n",
       "      <td>0.0</td>\n",
       "    </tr>\n",
       "    <tr>\n",
       "      <th>mean</th>\n",
       "      <td>2020.0</td>\n",
       "      <td>4.0</td>\n",
       "      <td>193.207152</td>\n",
       "      <td>6.069846</td>\n",
       "      <td>2.772984</td>\n",
       "      <td>0.181776</td>\n",
       "      <td>1.763046</td>\n",
       "      <td>0.017164</td>\n",
       "      <td>0.837275</td>\n",
       "      <td>80.196054</td>\n",
       "      <td>0.183724</td>\n",
       "      <td>344.067201</td>\n",
       "      <td>215.924168</td>\n",
       "      <td>15.295314</td>\n",
       "      <td>57.525894</td>\n",
       "      <td>0.745993</td>\n",
       "      <td>54.575832</td>\n",
       "      <td>NaN</td>\n",
       "    </tr>\n",
       "    <tr>\n",
       "      <th>std</th>\n",
       "      <td>0.0</td>\n",
       "      <td>0.0</td>\n",
       "      <td>581.055342</td>\n",
       "      <td>18.716884</td>\n",
       "      <td>9.627878</td>\n",
       "      <td>0.626645</td>\n",
       "      <td>6.011147</td>\n",
       "      <td>0.135505</td>\n",
       "      <td>3.496543</td>\n",
       "      <td>260.385354</td>\n",
       "      <td>0.710914</td>\n",
       "      <td>1387.314529</td>\n",
       "      <td>978.402835</td>\n",
       "      <td>80.193664</td>\n",
       "      <td>208.811499</td>\n",
       "      <td>6.515835</td>\n",
       "      <td>263.422712</td>\n",
       "      <td>NaN</td>\n",
       "    </tr>\n",
       "    <tr>\n",
       "      <th>min</th>\n",
       "      <td>2020.0</td>\n",
       "      <td>4.0</td>\n",
       "      <td>1.000000</td>\n",
       "      <td>0.000000</td>\n",
       "      <td>0.000000</td>\n",
       "      <td>0.000000</td>\n",
       "      <td>0.000000</td>\n",
       "      <td>0.000000</td>\n",
       "      <td>0.000000</td>\n",
       "      <td>0.000000</td>\n",
       "      <td>0.000000</td>\n",
       "      <td>0.000000</td>\n",
       "      <td>0.000000</td>\n",
       "      <td>0.000000</td>\n",
       "      <td>0.000000</td>\n",
       "      <td>0.000000</td>\n",
       "      <td>0.000000</td>\n",
       "      <td>NaN</td>\n",
       "    </tr>\n",
       "    <tr>\n",
       "      <th>25%</th>\n",
       "      <td>2020.0</td>\n",
       "      <td>4.0</td>\n",
       "      <td>23.000000</td>\n",
       "      <td>0.000000</td>\n",
       "      <td>0.000000</td>\n",
       "      <td>0.000000</td>\n",
       "      <td>0.000000</td>\n",
       "      <td>0.000000</td>\n",
       "      <td>0.000000</td>\n",
       "      <td>7.000000</td>\n",
       "      <td>0.000000</td>\n",
       "      <td>0.000000</td>\n",
       "      <td>0.000000</td>\n",
       "      <td>0.000000</td>\n",
       "      <td>0.000000</td>\n",
       "      <td>0.000000</td>\n",
       "      <td>0.000000</td>\n",
       "      <td>NaN</td>\n",
       "    </tr>\n",
       "    <tr>\n",
       "      <th>50%</th>\n",
       "      <td>2020.0</td>\n",
       "      <td>4.0</td>\n",
       "      <td>52.000000</td>\n",
       "      <td>2.000000</td>\n",
       "      <td>0.815000</td>\n",
       "      <td>0.000000</td>\n",
       "      <td>0.000000</td>\n",
       "      <td>0.000000</td>\n",
       "      <td>0.000000</td>\n",
       "      <td>19.000000</td>\n",
       "      <td>0.000000</td>\n",
       "      <td>47.000000</td>\n",
       "      <td>17.000000</td>\n",
       "      <td>0.000000</td>\n",
       "      <td>0.000000</td>\n",
       "      <td>0.000000</td>\n",
       "      <td>0.000000</td>\n",
       "      <td>NaN</td>\n",
       "    </tr>\n",
       "    <tr>\n",
       "      <th>75%</th>\n",
       "      <td>2020.0</td>\n",
       "      <td>4.0</td>\n",
       "      <td>116.000000</td>\n",
       "      <td>5.000000</td>\n",
       "      <td>2.000000</td>\n",
       "      <td>0.000000</td>\n",
       "      <td>1.130000</td>\n",
       "      <td>0.000000</td>\n",
       "      <td>0.390000</td>\n",
       "      <td>47.000000</td>\n",
       "      <td>0.000000</td>\n",
       "      <td>205.000000</td>\n",
       "      <td>119.000000</td>\n",
       "      <td>0.000000</td>\n",
       "      <td>36.000000</td>\n",
       "      <td>0.000000</td>\n",
       "      <td>13.000000</td>\n",
       "      <td>NaN</td>\n",
       "    </tr>\n",
       "    <tr>\n",
       "      <th>max</th>\n",
       "      <td>2020.0</td>\n",
       "      <td>4.0</td>\n",
       "      <td>7237.000000</td>\n",
       "      <td>347.000000</td>\n",
       "      <td>223.020000</td>\n",
       "      <td>9.370000</td>\n",
       "      <td>103.600000</td>\n",
       "      <td>1.980000</td>\n",
       "      <td>64.720000</td>\n",
       "      <td>3154.000000</td>\n",
       "      <td>9.000000</td>\n",
       "      <td>26330.000000</td>\n",
       "      <td>20388.000000</td>\n",
       "      <td>1680.000000</td>\n",
       "      <td>3118.000000</td>\n",
       "      <td>115.000000</td>\n",
       "      <td>4510.000000</td>\n",
       "      <td>NaN</td>\n",
       "    </tr>\n",
       "  </tbody>\n",
       "</table>\n",
       "</div>"
      ],
      "text/plain": [
       "         year   month  arr_flights    arr_del15   carrier_ct   weather_ct  \\\n",
       "count  1651.0  1651.0  1622.000000  1489.000000  1622.000000  1622.000000   \n",
       "mean   2020.0     4.0   193.207152     6.069846     2.772984     0.181776   \n",
       "std       0.0     0.0   581.055342    18.716884     9.627878     0.626645   \n",
       "min    2020.0     4.0     1.000000     0.000000     0.000000     0.000000   \n",
       "25%    2020.0     4.0    23.000000     0.000000     0.000000     0.000000   \n",
       "50%    2020.0     4.0    52.000000     2.000000     0.815000     0.000000   \n",
       "75%    2020.0     4.0   116.000000     5.000000     2.000000     0.000000   \n",
       "max    2020.0     4.0  7237.000000   347.000000   223.020000     9.370000   \n",
       "\n",
       "            nas_ct  security_ct  late_aircraft_ct  arr_cancelled  \\\n",
       "count  1622.000000  1622.000000       1622.000000    1622.000000   \n",
       "mean      1.763046     0.017164          0.837275      80.196054   \n",
       "std       6.011147     0.135505          3.496543     260.385354   \n",
       "min       0.000000     0.000000          0.000000       0.000000   \n",
       "25%       0.000000     0.000000          0.000000       7.000000   \n",
       "50%       0.000000     0.000000          0.000000      19.000000   \n",
       "75%       1.130000     0.000000          0.390000      47.000000   \n",
       "max     103.600000     1.980000         64.720000    3154.000000   \n",
       "\n",
       "       arr_diverted     arr_delay   carrier_delay  weather_delay    nas_delay  \\\n",
       "count   1622.000000   1622.000000     1622.000000    1622.000000  1622.000000   \n",
       "mean       0.183724    344.067201      215.924168      15.295314    57.525894   \n",
       "std        0.710914   1387.314529      978.402835      80.193664   208.811499   \n",
       "min        0.000000      0.000000        0.000000       0.000000     0.000000   \n",
       "25%        0.000000      0.000000        0.000000       0.000000     0.000000   \n",
       "50%        0.000000     47.000000       17.000000       0.000000     0.000000   \n",
       "75%        0.000000    205.000000      119.000000       0.000000    36.000000   \n",
       "max        9.000000  26330.000000    20388.000000    1680.000000  3118.000000   \n",
       "\n",
       "       security_delay  late_aircraft_delay  Unnamed: 21  \n",
       "count     1622.000000          1622.000000          0.0  \n",
       "mean         0.745993            54.575832          NaN  \n",
       "std          6.515835           263.422712          NaN  \n",
       "min          0.000000             0.000000          NaN  \n",
       "25%          0.000000             0.000000          NaN  \n",
       "50%          0.000000             0.000000          NaN  \n",
       "75%          0.000000            13.000000          NaN  \n",
       "max        115.000000          4510.000000          NaN  "
      ]
     },
     "execution_count": 100,
     "metadata": {},
     "output_type": "execute_result"
    }
   ],
   "source": [
    "df_f.describe()"
   ]
  },
  {
   "cell_type": "code",
   "execution_count": 101,
   "metadata": {
    "slideshow": {
     "slide_type": "subslide"
    }
   },
   "outputs": [
    {
     "data": {
      "text/plain": [
       "4    1651\n",
       "Name:  month, dtype: int64"
      ]
     },
     "execution_count": 101,
     "metadata": {},
     "output_type": "execute_result"
    }
   ],
   "source": [
    "df_f[' month'].value_counts()"
   ]
  },
  {
   "cell_type": "code",
   "execution_count": 102,
   "metadata": {
    "slideshow": {
     "slide_type": "subslide"
    }
   },
   "outputs": [
    {
     "data": {
      "text/html": [
       "<div>\n",
       "<style scoped>\n",
       "    .dataframe tbody tr th:only-of-type {\n",
       "        vertical-align: middle;\n",
       "    }\n",
       "\n",
       "    .dataframe tbody tr th {\n",
       "        vertical-align: top;\n",
       "    }\n",
       "\n",
       "    .dataframe thead th {\n",
       "        text-align: right;\n",
       "    }\n",
       "</style>\n",
       "<table border=\"1\" class=\"dataframe\">\n",
       "  <thead>\n",
       "    <tr style=\"text-align: right;\">\n",
       "      <th></th>\n",
       "      <th>year</th>\n",
       "      <th>month</th>\n",
       "      <th>carrier</th>\n",
       "      <th>carrier_name</th>\n",
       "      <th>airport</th>\n",
       "      <th>airport_name</th>\n",
       "      <th>arr_flights</th>\n",
       "      <th>arr_del15</th>\n",
       "      <th>carrier_ct</th>\n",
       "      <th>weather_ct</th>\n",
       "      <th>...</th>\n",
       "      <th>late_aircraft_ct</th>\n",
       "      <th>arr_cancelled</th>\n",
       "      <th>arr_diverted</th>\n",
       "      <th>arr_delay</th>\n",
       "      <th>carrier_delay</th>\n",
       "      <th>weather_delay</th>\n",
       "      <th>nas_delay</th>\n",
       "      <th>security_delay</th>\n",
       "      <th>late_aircraft_delay</th>\n",
       "      <th>Unnamed: 21</th>\n",
       "    </tr>\n",
       "  </thead>\n",
       "  <tbody>\n",
       "    <tr>\n",
       "      <th>0</th>\n",
       "      <td>2020</td>\n",
       "      <td>4</td>\n",
       "      <td>9E</td>\n",
       "      <td>Endeavor Air Inc.</td>\n",
       "      <td>AEX</td>\n",
       "      <td>Alexandria, LA: Alexandria International</td>\n",
       "      <td>47.0</td>\n",
       "      <td>5.0</td>\n",
       "      <td>1.78</td>\n",
       "      <td>0.00</td>\n",
       "      <td>...</td>\n",
       "      <td>0.00</td>\n",
       "      <td>6.0</td>\n",
       "      <td>0.0</td>\n",
       "      <td>172.0</td>\n",
       "      <td>104.0</td>\n",
       "      <td>0.0</td>\n",
       "      <td>68.0</td>\n",
       "      <td>0.0</td>\n",
       "      <td>0.0</td>\n",
       "      <td>NaN</td>\n",
       "    </tr>\n",
       "    <tr>\n",
       "      <th>1</th>\n",
       "      <td>2020</td>\n",
       "      <td>4</td>\n",
       "      <td>9E</td>\n",
       "      <td>Endeavor Air Inc.</td>\n",
       "      <td>AGS</td>\n",
       "      <td>Augusta, GA: Augusta Regional at Bush Field</td>\n",
       "      <td>86.0</td>\n",
       "      <td>4.0</td>\n",
       "      <td>1.97</td>\n",
       "      <td>0.00</td>\n",
       "      <td>...</td>\n",
       "      <td>0.93</td>\n",
       "      <td>15.0</td>\n",
       "      <td>0.0</td>\n",
       "      <td>277.0</td>\n",
       "      <td>180.0</td>\n",
       "      <td>0.0</td>\n",
       "      <td>35.0</td>\n",
       "      <td>0.0</td>\n",
       "      <td>62.0</td>\n",
       "      <td>NaN</td>\n",
       "    </tr>\n",
       "    <tr>\n",
       "      <th>2</th>\n",
       "      <td>2020</td>\n",
       "      <td>4</td>\n",
       "      <td>9E</td>\n",
       "      <td>Endeavor Air Inc.</td>\n",
       "      <td>ALB</td>\n",
       "      <td>Albany, NY: Albany International</td>\n",
       "      <td>1.0</td>\n",
       "      <td>0.0</td>\n",
       "      <td>0.00</td>\n",
       "      <td>0.00</td>\n",
       "      <td>...</td>\n",
       "      <td>0.00</td>\n",
       "      <td>0.0</td>\n",
       "      <td>0.0</td>\n",
       "      <td>0.0</td>\n",
       "      <td>0.0</td>\n",
       "      <td>0.0</td>\n",
       "      <td>0.0</td>\n",
       "      <td>0.0</td>\n",
       "      <td>0.0</td>\n",
       "      <td>NaN</td>\n",
       "    </tr>\n",
       "    <tr>\n",
       "      <th>3</th>\n",
       "      <td>2020</td>\n",
       "      <td>4</td>\n",
       "      <td>9E</td>\n",
       "      <td>Endeavor Air Inc.</td>\n",
       "      <td>ATL</td>\n",
       "      <td>Atlanta, GA: Hartsfield-Jackson Atlanta Intern...</td>\n",
       "      <td>1314.0</td>\n",
       "      <td>56.0</td>\n",
       "      <td>36.33</td>\n",
       "      <td>2.45</td>\n",
       "      <td>...</td>\n",
       "      <td>9.33</td>\n",
       "      <td>288.0</td>\n",
       "      <td>1.0</td>\n",
       "      <td>4619.0</td>\n",
       "      <td>3437.0</td>\n",
       "      <td>251.0</td>\n",
       "      <td>270.0</td>\n",
       "      <td>0.0</td>\n",
       "      <td>661.0</td>\n",
       "      <td>NaN</td>\n",
       "    </tr>\n",
       "    <tr>\n",
       "      <th>4</th>\n",
       "      <td>2020</td>\n",
       "      <td>4</td>\n",
       "      <td>9E</td>\n",
       "      <td>Endeavor Air Inc.</td>\n",
       "      <td>ATW</td>\n",
       "      <td>Appleton, WI: Appleton International</td>\n",
       "      <td>1.0</td>\n",
       "      <td>0.0</td>\n",
       "      <td>0.00</td>\n",
       "      <td>0.00</td>\n",
       "      <td>...</td>\n",
       "      <td>0.00</td>\n",
       "      <td>0.0</td>\n",
       "      <td>0.0</td>\n",
       "      <td>0.0</td>\n",
       "      <td>0.0</td>\n",
       "      <td>0.0</td>\n",
       "      <td>0.0</td>\n",
       "      <td>0.0</td>\n",
       "      <td>0.0</td>\n",
       "      <td>NaN</td>\n",
       "    </tr>\n",
       "    <tr>\n",
       "      <th>...</th>\n",
       "      <td>...</td>\n",
       "      <td>...</td>\n",
       "      <td>...</td>\n",
       "      <td>...</td>\n",
       "      <td>...</td>\n",
       "      <td>...</td>\n",
       "      <td>...</td>\n",
       "      <td>...</td>\n",
       "      <td>...</td>\n",
       "      <td>...</td>\n",
       "      <td>...</td>\n",
       "      <td>...</td>\n",
       "      <td>...</td>\n",
       "      <td>...</td>\n",
       "      <td>...</td>\n",
       "      <td>...</td>\n",
       "      <td>...</td>\n",
       "      <td>...</td>\n",
       "      <td>...</td>\n",
       "      <td>...</td>\n",
       "      <td>...</td>\n",
       "    </tr>\n",
       "    <tr>\n",
       "      <th>1646</th>\n",
       "      <td>2020</td>\n",
       "      <td>4</td>\n",
       "      <td>YX</td>\n",
       "      <td>Republic Airline</td>\n",
       "      <td>TPA</td>\n",
       "      <td>Tampa, FL: Tampa International</td>\n",
       "      <td>12.0</td>\n",
       "      <td>0.0</td>\n",
       "      <td>0.00</td>\n",
       "      <td>0.00</td>\n",
       "      <td>...</td>\n",
       "      <td>0.00</td>\n",
       "      <td>8.0</td>\n",
       "      <td>0.0</td>\n",
       "      <td>0.0</td>\n",
       "      <td>0.0</td>\n",
       "      <td>0.0</td>\n",
       "      <td>0.0</td>\n",
       "      <td>0.0</td>\n",
       "      <td>0.0</td>\n",
       "      <td>NaN</td>\n",
       "    </tr>\n",
       "    <tr>\n",
       "      <th>1647</th>\n",
       "      <td>2020</td>\n",
       "      <td>4</td>\n",
       "      <td>YX</td>\n",
       "      <td>Republic Airline</td>\n",
       "      <td>TUS</td>\n",
       "      <td>Tucson, AZ: Tucson International</td>\n",
       "      <td>30.0</td>\n",
       "      <td>0.0</td>\n",
       "      <td>0.00</td>\n",
       "      <td>0.00</td>\n",
       "      <td>...</td>\n",
       "      <td>0.00</td>\n",
       "      <td>1.0</td>\n",
       "      <td>0.0</td>\n",
       "      <td>0.0</td>\n",
       "      <td>0.0</td>\n",
       "      <td>0.0</td>\n",
       "      <td>0.0</td>\n",
       "      <td>0.0</td>\n",
       "      <td>0.0</td>\n",
       "      <td>NaN</td>\n",
       "    </tr>\n",
       "    <tr>\n",
       "      <th>1648</th>\n",
       "      <td>2020</td>\n",
       "      <td>4</td>\n",
       "      <td>YX</td>\n",
       "      <td>Republic Airline</td>\n",
       "      <td>TYS</td>\n",
       "      <td>Knoxville, TN: McGhee Tyson</td>\n",
       "      <td>74.0</td>\n",
       "      <td>1.0</td>\n",
       "      <td>0.00</td>\n",
       "      <td>0.00</td>\n",
       "      <td>...</td>\n",
       "      <td>1.00</td>\n",
       "      <td>31.0</td>\n",
       "      <td>0.0</td>\n",
       "      <td>41.0</td>\n",
       "      <td>0.0</td>\n",
       "      <td>0.0</td>\n",
       "      <td>0.0</td>\n",
       "      <td>0.0</td>\n",
       "      <td>41.0</td>\n",
       "      <td>NaN</td>\n",
       "    </tr>\n",
       "    <tr>\n",
       "      <th>1649</th>\n",
       "      <td>2020</td>\n",
       "      <td>4</td>\n",
       "      <td>YX</td>\n",
       "      <td>Republic Airline</td>\n",
       "      <td>VPS</td>\n",
       "      <td>Valparaiso, FL: Eglin AFB Destin Fort Walton B...</td>\n",
       "      <td>6.0</td>\n",
       "      <td>1.0</td>\n",
       "      <td>0.00</td>\n",
       "      <td>0.00</td>\n",
       "      <td>...</td>\n",
       "      <td>0.00</td>\n",
       "      <td>2.0</td>\n",
       "      <td>0.0</td>\n",
       "      <td>59.0</td>\n",
       "      <td>0.0</td>\n",
       "      <td>0.0</td>\n",
       "      <td>59.0</td>\n",
       "      <td>0.0</td>\n",
       "      <td>0.0</td>\n",
       "      <td>NaN</td>\n",
       "    </tr>\n",
       "    <tr>\n",
       "      <th>1650</th>\n",
       "      <td>2020</td>\n",
       "      <td>4</td>\n",
       "      <td>YX</td>\n",
       "      <td>Republic Airline</td>\n",
       "      <td>XNA</td>\n",
       "      <td>Fayetteville, AR: Northwest Arkansas Regional</td>\n",
       "      <td>110.0</td>\n",
       "      <td>1.0</td>\n",
       "      <td>0.87</td>\n",
       "      <td>0.00</td>\n",
       "      <td>...</td>\n",
       "      <td>0.00</td>\n",
       "      <td>36.0</td>\n",
       "      <td>0.0</td>\n",
       "      <td>30.0</td>\n",
       "      <td>26.0</td>\n",
       "      <td>0.0</td>\n",
       "      <td>4.0</td>\n",
       "      <td>0.0</td>\n",
       "      <td>0.0</td>\n",
       "      <td>NaN</td>\n",
       "    </tr>\n",
       "  </tbody>\n",
       "</table>\n",
       "<p>1651 rows × 22 columns</p>\n",
       "</div>"
      ],
      "text/plain": [
       "      year   month carrier       carrier_name airport  \\\n",
       "0     2020       4      9E  Endeavor Air Inc.     AEX   \n",
       "1     2020       4      9E  Endeavor Air Inc.     AGS   \n",
       "2     2020       4      9E  Endeavor Air Inc.     ALB   \n",
       "3     2020       4      9E  Endeavor Air Inc.     ATL   \n",
       "4     2020       4      9E  Endeavor Air Inc.     ATW   \n",
       "...    ...     ...     ...                ...     ...   \n",
       "1646  2020       4      YX   Republic Airline     TPA   \n",
       "1647  2020       4      YX   Republic Airline     TUS   \n",
       "1648  2020       4      YX   Republic Airline     TYS   \n",
       "1649  2020       4      YX   Republic Airline     VPS   \n",
       "1650  2020       4      YX   Republic Airline     XNA   \n",
       "\n",
       "                                           airport_name  arr_flights  \\\n",
       "0              Alexandria, LA: Alexandria International         47.0   \n",
       "1           Augusta, GA: Augusta Regional at Bush Field         86.0   \n",
       "2                      Albany, NY: Albany International          1.0   \n",
       "3     Atlanta, GA: Hartsfield-Jackson Atlanta Intern...       1314.0   \n",
       "4                  Appleton, WI: Appleton International          1.0   \n",
       "...                                                 ...          ...   \n",
       "1646                     Tampa, FL: Tampa International         12.0   \n",
       "1647                   Tucson, AZ: Tucson International         30.0   \n",
       "1648                        Knoxville, TN: McGhee Tyson         74.0   \n",
       "1649  Valparaiso, FL: Eglin AFB Destin Fort Walton B...          6.0   \n",
       "1650      Fayetteville, AR: Northwest Arkansas Regional        110.0   \n",
       "\n",
       "      arr_del15  carrier_ct   weather_ct  ...  late_aircraft_ct  \\\n",
       "0           5.0        1.78         0.00  ...              0.00   \n",
       "1           4.0        1.97         0.00  ...              0.93   \n",
       "2           0.0        0.00         0.00  ...              0.00   \n",
       "3          56.0       36.33         2.45  ...              9.33   \n",
       "4           0.0        0.00         0.00  ...              0.00   \n",
       "...         ...         ...          ...  ...               ...   \n",
       "1646        0.0        0.00         0.00  ...              0.00   \n",
       "1647        0.0        0.00         0.00  ...              0.00   \n",
       "1648        1.0        0.00         0.00  ...              1.00   \n",
       "1649        1.0        0.00         0.00  ...              0.00   \n",
       "1650        1.0        0.87         0.00  ...              0.00   \n",
       "\n",
       "      arr_cancelled  arr_diverted   arr_delay   carrier_delay  weather_delay  \\\n",
       "0               6.0           0.0       172.0           104.0            0.0   \n",
       "1              15.0           0.0       277.0           180.0            0.0   \n",
       "2               0.0           0.0         0.0             0.0            0.0   \n",
       "3             288.0           1.0      4619.0          3437.0          251.0   \n",
       "4               0.0           0.0         0.0             0.0            0.0   \n",
       "...             ...           ...         ...             ...            ...   \n",
       "1646            8.0           0.0         0.0             0.0            0.0   \n",
       "1647            1.0           0.0         0.0             0.0            0.0   \n",
       "1648           31.0           0.0        41.0             0.0            0.0   \n",
       "1649            2.0           0.0        59.0             0.0            0.0   \n",
       "1650           36.0           0.0        30.0            26.0            0.0   \n",
       "\n",
       "      nas_delay  security_delay  late_aircraft_delay  Unnamed: 21  \n",
       "0          68.0             0.0                  0.0          NaN  \n",
       "1          35.0             0.0                 62.0          NaN  \n",
       "2           0.0             0.0                  0.0          NaN  \n",
       "3         270.0             0.0                661.0          NaN  \n",
       "4           0.0             0.0                  0.0          NaN  \n",
       "...         ...             ...                  ...          ...  \n",
       "1646        0.0             0.0                  0.0          NaN  \n",
       "1647        0.0             0.0                  0.0          NaN  \n",
       "1648        0.0             0.0                 41.0          NaN  \n",
       "1649       59.0             0.0                  0.0          NaN  \n",
       "1650        4.0             0.0                  0.0          NaN  \n",
       "\n",
       "[1651 rows x 22 columns]"
      ]
     },
     "execution_count": 102,
     "metadata": {},
     "output_type": "execute_result"
    }
   ],
   "source": [
    "df_f"
   ]
  },
  {
   "cell_type": "code",
   "execution_count": 103,
   "metadata": {
    "slideshow": {
     "slide_type": "subslide"
    }
   },
   "outputs": [
    {
     "data": {
      "text/plain": [
       "0"
      ]
     },
     "execution_count": 103,
     "metadata": {},
     "output_type": "execute_result"
    }
   ],
   "source": [
    "sum(df_f.duplicated())\n"
   ]
  },
  {
   "cell_type": "code",
   "execution_count": 104,
   "metadata": {
    "slideshow": {
     "slide_type": "subslide"
    }
   },
   "outputs": [
    {
     "data": {
      "text/plain": [
       "29"
      ]
     },
     "execution_count": 104,
     "metadata": {},
     "output_type": "execute_result"
    }
   ],
   "source": [
    "sum(df_f.arr_flights.isnull())"
   ]
  },
  {
   "cell_type": "code",
   "execution_count": 105,
   "metadata": {
    "slideshow": {
     "slide_type": "subslide"
    }
   },
   "outputs": [
    {
     "data": {
      "text/plain": [
       "2020    1651\n",
       "Name: year, dtype: int64"
      ]
     },
     "execution_count": 105,
     "metadata": {},
     "output_type": "execute_result"
    }
   ],
   "source": [
    "df_f.year.value_counts()"
   ]
  },
  {
   "cell_type": "code",
   "execution_count": 106,
   "metadata": {
    "slideshow": {
     "slide_type": "subslide"
    }
   },
   "outputs": [
    {
     "data": {
      "text/html": [
       "<div>\n",
       "<style scoped>\n",
       "    .dataframe tbody tr th:only-of-type {\n",
       "        vertical-align: middle;\n",
       "    }\n",
       "\n",
       "    .dataframe tbody tr th {\n",
       "        vertical-align: top;\n",
       "    }\n",
       "\n",
       "    .dataframe thead th {\n",
       "        text-align: right;\n",
       "    }\n",
       "</style>\n",
       "<table border=\"1\" class=\"dataframe\">\n",
       "  <thead>\n",
       "    <tr style=\"text-align: right;\">\n",
       "      <th></th>\n",
       "      <th>year</th>\n",
       "      <th>month</th>\n",
       "      <th>carrier</th>\n",
       "      <th>carrier_name</th>\n",
       "      <th>airport</th>\n",
       "      <th>airport_name</th>\n",
       "      <th>arr_flights</th>\n",
       "      <th>arr_del15</th>\n",
       "      <th>carrier_ct</th>\n",
       "      <th>weather_ct</th>\n",
       "      <th>...</th>\n",
       "      <th>late_aircraft_ct</th>\n",
       "      <th>arr_cancelled</th>\n",
       "      <th>arr_diverted</th>\n",
       "      <th>arr_delay</th>\n",
       "      <th>carrier_delay</th>\n",
       "      <th>weather_delay</th>\n",
       "      <th>nas_delay</th>\n",
       "      <th>security_delay</th>\n",
       "      <th>late_aircraft_delay</th>\n",
       "      <th>Unnamed: 21</th>\n",
       "    </tr>\n",
       "  </thead>\n",
       "  <tbody>\n",
       "    <tr>\n",
       "      <th>5</th>\n",
       "      <td>2020</td>\n",
       "      <td>4</td>\n",
       "      <td>9E</td>\n",
       "      <td>Endeavor Air Inc.</td>\n",
       "      <td>AUS</td>\n",
       "      <td>Austin, TX: Austin - Bergstrom International</td>\n",
       "      <td>1.0</td>\n",
       "      <td>NaN</td>\n",
       "      <td>0.0</td>\n",
       "      <td>0.0</td>\n",
       "      <td>...</td>\n",
       "      <td>0.0</td>\n",
       "      <td>1.0</td>\n",
       "      <td>0.0</td>\n",
       "      <td>0.0</td>\n",
       "      <td>0.0</td>\n",
       "      <td>0.0</td>\n",
       "      <td>0.0</td>\n",
       "      <td>0.0</td>\n",
       "      <td>0.0</td>\n",
       "      <td>NaN</td>\n",
       "    </tr>\n",
       "    <tr>\n",
       "      <th>12</th>\n",
       "      <td>2020</td>\n",
       "      <td>4</td>\n",
       "      <td>9E</td>\n",
       "      <td>Endeavor Air Inc.</td>\n",
       "      <td>BNA</td>\n",
       "      <td>Nashville, TN: Nashville International</td>\n",
       "      <td>2.0</td>\n",
       "      <td>NaN</td>\n",
       "      <td>0.0</td>\n",
       "      <td>0.0</td>\n",
       "      <td>...</td>\n",
       "      <td>0.0</td>\n",
       "      <td>2.0</td>\n",
       "      <td>0.0</td>\n",
       "      <td>0.0</td>\n",
       "      <td>0.0</td>\n",
       "      <td>0.0</td>\n",
       "      <td>0.0</td>\n",
       "      <td>0.0</td>\n",
       "      <td>0.0</td>\n",
       "      <td>NaN</td>\n",
       "    </tr>\n",
       "    <tr>\n",
       "      <th>19</th>\n",
       "      <td>2020</td>\n",
       "      <td>4</td>\n",
       "      <td>9E</td>\n",
       "      <td>Endeavor Air Inc.</td>\n",
       "      <td>CAE</td>\n",
       "      <td>Columbia, SC: Columbia Metropolitan</td>\n",
       "      <td>NaN</td>\n",
       "      <td>NaN</td>\n",
       "      <td>NaN</td>\n",
       "      <td>NaN</td>\n",
       "      <td>...</td>\n",
       "      <td>NaN</td>\n",
       "      <td>NaN</td>\n",
       "      <td>NaN</td>\n",
       "      <td>NaN</td>\n",
       "      <td>NaN</td>\n",
       "      <td>NaN</td>\n",
       "      <td>NaN</td>\n",
       "      <td>NaN</td>\n",
       "      <td>NaN</td>\n",
       "      <td>NaN</td>\n",
       "    </tr>\n",
       "    <tr>\n",
       "      <th>20</th>\n",
       "      <td>2020</td>\n",
       "      <td>4</td>\n",
       "      <td>9E</td>\n",
       "      <td>Endeavor Air Inc.</td>\n",
       "      <td>CAK</td>\n",
       "      <td>Akron, OH: Akron-Canton Regional</td>\n",
       "      <td>1.0</td>\n",
       "      <td>NaN</td>\n",
       "      <td>0.0</td>\n",
       "      <td>0.0</td>\n",
       "      <td>...</td>\n",
       "      <td>0.0</td>\n",
       "      <td>1.0</td>\n",
       "      <td>0.0</td>\n",
       "      <td>0.0</td>\n",
       "      <td>0.0</td>\n",
       "      <td>0.0</td>\n",
       "      <td>0.0</td>\n",
       "      <td>0.0</td>\n",
       "      <td>0.0</td>\n",
       "      <td>NaN</td>\n",
       "    </tr>\n",
       "    <tr>\n",
       "      <th>23</th>\n",
       "      <td>2020</td>\n",
       "      <td>4</td>\n",
       "      <td>9E</td>\n",
       "      <td>Endeavor Air Inc.</td>\n",
       "      <td>CHS</td>\n",
       "      <td>Charleston, SC: Charleston AFB/International</td>\n",
       "      <td>7.0</td>\n",
       "      <td>NaN</td>\n",
       "      <td>0.0</td>\n",
       "      <td>0.0</td>\n",
       "      <td>...</td>\n",
       "      <td>0.0</td>\n",
       "      <td>7.0</td>\n",
       "      <td>0.0</td>\n",
       "      <td>0.0</td>\n",
       "      <td>0.0</td>\n",
       "      <td>0.0</td>\n",
       "      <td>0.0</td>\n",
       "      <td>0.0</td>\n",
       "      <td>0.0</td>\n",
       "      <td>NaN</td>\n",
       "    </tr>\n",
       "    <tr>\n",
       "      <th>...</th>\n",
       "      <td>...</td>\n",
       "      <td>...</td>\n",
       "      <td>...</td>\n",
       "      <td>...</td>\n",
       "      <td>...</td>\n",
       "      <td>...</td>\n",
       "      <td>...</td>\n",
       "      <td>...</td>\n",
       "      <td>...</td>\n",
       "      <td>...</td>\n",
       "      <td>...</td>\n",
       "      <td>...</td>\n",
       "      <td>...</td>\n",
       "      <td>...</td>\n",
       "      <td>...</td>\n",
       "      <td>...</td>\n",
       "      <td>...</td>\n",
       "      <td>...</td>\n",
       "      <td>...</td>\n",
       "      <td>...</td>\n",
       "      <td>...</td>\n",
       "    </tr>\n",
       "    <tr>\n",
       "      <th>1594</th>\n",
       "      <td>2020</td>\n",
       "      <td>4</td>\n",
       "      <td>YX</td>\n",
       "      <td>Republic Airline</td>\n",
       "      <td>DFW</td>\n",
       "      <td>Dallas/Fort Worth, TX: Dallas/Fort Worth Inter...</td>\n",
       "      <td>1.0</td>\n",
       "      <td>NaN</td>\n",
       "      <td>0.0</td>\n",
       "      <td>0.0</td>\n",
       "      <td>...</td>\n",
       "      <td>0.0</td>\n",
       "      <td>1.0</td>\n",
       "      <td>0.0</td>\n",
       "      <td>0.0</td>\n",
       "      <td>0.0</td>\n",
       "      <td>0.0</td>\n",
       "      <td>0.0</td>\n",
       "      <td>0.0</td>\n",
       "      <td>0.0</td>\n",
       "      <td>NaN</td>\n",
       "    </tr>\n",
       "    <tr>\n",
       "      <th>1603</th>\n",
       "      <td>2020</td>\n",
       "      <td>4</td>\n",
       "      <td>YX</td>\n",
       "      <td>Republic Airline</td>\n",
       "      <td>HRL</td>\n",
       "      <td>Harlingen/San Benito, TX: Valley International</td>\n",
       "      <td>NaN</td>\n",
       "      <td>NaN</td>\n",
       "      <td>NaN</td>\n",
       "      <td>NaN</td>\n",
       "      <td>...</td>\n",
       "      <td>NaN</td>\n",
       "      <td>NaN</td>\n",
       "      <td>NaN</td>\n",
       "      <td>NaN</td>\n",
       "      <td>NaN</td>\n",
       "      <td>NaN</td>\n",
       "      <td>NaN</td>\n",
       "      <td>NaN</td>\n",
       "      <td>NaN</td>\n",
       "      <td>NaN</td>\n",
       "    </tr>\n",
       "    <tr>\n",
       "      <th>1614</th>\n",
       "      <td>2020</td>\n",
       "      <td>4</td>\n",
       "      <td>YX</td>\n",
       "      <td>Republic Airline</td>\n",
       "      <td>LFT</td>\n",
       "      <td>Lafayette, LA: Lafayette Regional Paul Fournet...</td>\n",
       "      <td>NaN</td>\n",
       "      <td>NaN</td>\n",
       "      <td>NaN</td>\n",
       "      <td>NaN</td>\n",
       "      <td>...</td>\n",
       "      <td>NaN</td>\n",
       "      <td>NaN</td>\n",
       "      <td>NaN</td>\n",
       "      <td>NaN</td>\n",
       "      <td>NaN</td>\n",
       "      <td>NaN</td>\n",
       "      <td>NaN</td>\n",
       "      <td>NaN</td>\n",
       "      <td>NaN</td>\n",
       "      <td>NaN</td>\n",
       "    </tr>\n",
       "    <tr>\n",
       "      <th>1621</th>\n",
       "      <td>2020</td>\n",
       "      <td>4</td>\n",
       "      <td>YX</td>\n",
       "      <td>Republic Airline</td>\n",
       "      <td>MKE</td>\n",
       "      <td>Milwaukee, WI: General Mitchell International</td>\n",
       "      <td>7.0</td>\n",
       "      <td>NaN</td>\n",
       "      <td>0.0</td>\n",
       "      <td>0.0</td>\n",
       "      <td>...</td>\n",
       "      <td>0.0</td>\n",
       "      <td>7.0</td>\n",
       "      <td>0.0</td>\n",
       "      <td>0.0</td>\n",
       "      <td>0.0</td>\n",
       "      <td>0.0</td>\n",
       "      <td>0.0</td>\n",
       "      <td>0.0</td>\n",
       "      <td>0.0</td>\n",
       "      <td>NaN</td>\n",
       "    </tr>\n",
       "    <tr>\n",
       "      <th>1632</th>\n",
       "      <td>2020</td>\n",
       "      <td>4</td>\n",
       "      <td>YX</td>\n",
       "      <td>Republic Airline</td>\n",
       "      <td>PNS</td>\n",
       "      <td>Pensacola, FL: Pensacola International</td>\n",
       "      <td>6.0</td>\n",
       "      <td>NaN</td>\n",
       "      <td>0.0</td>\n",
       "      <td>0.0</td>\n",
       "      <td>...</td>\n",
       "      <td>0.0</td>\n",
       "      <td>6.0</td>\n",
       "      <td>0.0</td>\n",
       "      <td>0.0</td>\n",
       "      <td>0.0</td>\n",
       "      <td>0.0</td>\n",
       "      <td>0.0</td>\n",
       "      <td>0.0</td>\n",
       "      <td>0.0</td>\n",
       "      <td>NaN</td>\n",
       "    </tr>\n",
       "  </tbody>\n",
       "</table>\n",
       "<p>162 rows × 22 columns</p>\n",
       "</div>"
      ],
      "text/plain": [
       "      year   month carrier       carrier_name airport  \\\n",
       "5     2020       4      9E  Endeavor Air Inc.     AUS   \n",
       "12    2020       4      9E  Endeavor Air Inc.     BNA   \n",
       "19    2020       4      9E  Endeavor Air Inc.     CAE   \n",
       "20    2020       4      9E  Endeavor Air Inc.     CAK   \n",
       "23    2020       4      9E  Endeavor Air Inc.     CHS   \n",
       "...    ...     ...     ...                ...     ...   \n",
       "1594  2020       4      YX   Republic Airline     DFW   \n",
       "1603  2020       4      YX   Republic Airline     HRL   \n",
       "1614  2020       4      YX   Republic Airline     LFT   \n",
       "1621  2020       4      YX   Republic Airline     MKE   \n",
       "1632  2020       4      YX   Republic Airline     PNS   \n",
       "\n",
       "                                           airport_name  arr_flights  \\\n",
       "5          Austin, TX: Austin - Bergstrom International          1.0   \n",
       "12               Nashville, TN: Nashville International          2.0   \n",
       "19                  Columbia, SC: Columbia Metropolitan          NaN   \n",
       "20                     Akron, OH: Akron-Canton Regional          1.0   \n",
       "23         Charleston, SC: Charleston AFB/International          7.0   \n",
       "...                                                 ...          ...   \n",
       "1594  Dallas/Fort Worth, TX: Dallas/Fort Worth Inter...          1.0   \n",
       "1603     Harlingen/San Benito, TX: Valley International          NaN   \n",
       "1614  Lafayette, LA: Lafayette Regional Paul Fournet...          NaN   \n",
       "1621      Milwaukee, WI: General Mitchell International          7.0   \n",
       "1632             Pensacola, FL: Pensacola International          6.0   \n",
       "\n",
       "      arr_del15  carrier_ct   weather_ct  ...  late_aircraft_ct  \\\n",
       "5           NaN         0.0          0.0  ...               0.0   \n",
       "12          NaN         0.0          0.0  ...               0.0   \n",
       "19          NaN         NaN          NaN  ...               NaN   \n",
       "20          NaN         0.0          0.0  ...               0.0   \n",
       "23          NaN         0.0          0.0  ...               0.0   \n",
       "...         ...         ...          ...  ...               ...   \n",
       "1594        NaN         0.0          0.0  ...               0.0   \n",
       "1603        NaN         NaN          NaN  ...               NaN   \n",
       "1614        NaN         NaN          NaN  ...               NaN   \n",
       "1621        NaN         0.0          0.0  ...               0.0   \n",
       "1632        NaN         0.0          0.0  ...               0.0   \n",
       "\n",
       "      arr_cancelled  arr_diverted   arr_delay   carrier_delay  weather_delay  \\\n",
       "5               1.0           0.0         0.0             0.0            0.0   \n",
       "12              2.0           0.0         0.0             0.0            0.0   \n",
       "19              NaN           NaN         NaN             NaN            NaN   \n",
       "20              1.0           0.0         0.0             0.0            0.0   \n",
       "23              7.0           0.0         0.0             0.0            0.0   \n",
       "...             ...           ...         ...             ...            ...   \n",
       "1594            1.0           0.0         0.0             0.0            0.0   \n",
       "1603            NaN           NaN         NaN             NaN            NaN   \n",
       "1614            NaN           NaN         NaN             NaN            NaN   \n",
       "1621            7.0           0.0         0.0             0.0            0.0   \n",
       "1632            6.0           0.0         0.0             0.0            0.0   \n",
       "\n",
       "      nas_delay  security_delay  late_aircraft_delay  Unnamed: 21  \n",
       "5           0.0             0.0                  0.0          NaN  \n",
       "12          0.0             0.0                  0.0          NaN  \n",
       "19          NaN             NaN                  NaN          NaN  \n",
       "20          0.0             0.0                  0.0          NaN  \n",
       "23          0.0             0.0                  0.0          NaN  \n",
       "...         ...             ...                  ...          ...  \n",
       "1594        0.0             0.0                  0.0          NaN  \n",
       "1603        NaN             NaN                  NaN          NaN  \n",
       "1614        NaN             NaN                  NaN          NaN  \n",
       "1621        0.0             0.0                  0.0          NaN  \n",
       "1632        0.0             0.0                  0.0          NaN  \n",
       "\n",
       "[162 rows x 22 columns]"
      ]
     },
     "execution_count": 106,
     "metadata": {},
     "output_type": "execute_result"
    }
   ],
   "source": [
    "df_f[df_f.arr_del15.isnull()]"
   ]
  },
  {
   "cell_type": "markdown",
   "metadata": {
    "slideshow": {
     "slide_type": "subslide"
    }
   },
   "source": [
    "based on this information we can see that all 1651 enteries of this dataset are from April 2020"
   ]
  },
  {
   "cell_type": "markdown",
   "metadata": {
    "slideshow": {
     "slide_type": "slide"
    }
   },
   "source": [
    "## data assessing summary"
   ]
  },
  {
   "cell_type": "markdown",
   "metadata": {
    "slideshow": {
     "slide_type": "subslide"
    }
   },
   "source": [
    "1) drop all enteries with  arr_flights as 'none' values since all columns exept year and moth are missing values\n",
    "2) renaming certain columns(spelling missteks/spaces before word)\n",
    "3) Unnamed: 21 since it has no value\n",
    "4) delay_15 none should be 0"
   ]
  },
  {
   "cell_type": "markdown",
   "metadata": {
    "slideshow": {
     "slide_type": "slide"
    }
   },
   "source": [
    "# data wrangling"
   ]
  },
  {
   "cell_type": "code",
   "execution_count": 107,
   "metadata": {
    "slideshow": {
     "slide_type": "subslide"
    }
   },
   "outputs": [],
   "source": [
    "#coping are data set for wrangling\n",
    "df=df_f.copy()"
   ]
  },
  {
   "cell_type": "markdown",
   "metadata": {
    "slideshow": {
     "slide_type": "subslide"
    }
   },
   "source": [
    "def:get all the indexes of the rows with arr_flights and remove these"
   ]
  },
  {
   "cell_type": "markdown",
   "metadata": {
    "slideshow": {
     "slide_type": "subslide"
    }
   },
   "source": [
    "code:"
   ]
  },
  {
   "cell_type": "code",
   "execution_count": 108,
   "metadata": {
    "slideshow": {
     "slide_type": "subslide"
    }
   },
   "outputs": [
    {
     "data": {
      "text/plain": [
       "Int64Index([  19,   54,   56,  330,  341,  352,  356,  372,  373,  374,  380,\n",
       "             391,  410,  414,  437,  465,  474,  477,  525,  846, 1265, 1314,\n",
       "            1320, 1341, 1520, 1539, 1580, 1603, 1614],\n",
       "           dtype='int64')"
      ]
     },
     "execution_count": 108,
     "metadata": {},
     "output_type": "execute_result"
    }
   ],
   "source": [
    "df[df.arr_flights.isnull()].index\n",
    "#these enteries dont have any usefull data=>so they need to be droped"
   ]
  },
  {
   "cell_type": "code",
   "execution_count": 109,
   "metadata": {
    "slideshow": {
     "slide_type": "subslide"
    }
   },
   "outputs": [],
   "source": [
    "df = df.drop(df.index[[19,   54,   56,  330,  341,  352,  356,  372,  373,  374,  380,\n",
    "             391,  410,  414,  437,  465,  474,  477,  525,  846, 1265, 1314,\n",
    "            1320, 1341, 1520, 1539, 1580, 1603, 1614]], axis=0)"
   ]
  },
  {
   "cell_type": "markdown",
   "metadata": {
    "slideshow": {
     "slide_type": "subslide"
    }
   },
   "source": [
    "test:"
   ]
  },
  {
   "cell_type": "code",
   "execution_count": 110,
   "metadata": {
    "slideshow": {
     "slide_type": "subslide"
    }
   },
   "outputs": [
    {
     "data": {
      "text/plain": [
       "0"
      ]
     },
     "execution_count": 110,
     "metadata": {},
     "output_type": "execute_result"
    }
   ],
   "source": [
    "sum(df.arr_flights.isnull())"
   ]
  },
  {
   "cell_type": "code",
   "execution_count": 111,
   "metadata": {
    "scrolled": true,
    "slideshow": {
     "slide_type": "subslide"
    }
   },
   "outputs": [
    {
     "data": {
      "text/html": [
       "<div>\n",
       "<style scoped>\n",
       "    .dataframe tbody tr th:only-of-type {\n",
       "        vertical-align: middle;\n",
       "    }\n",
       "\n",
       "    .dataframe tbody tr th {\n",
       "        vertical-align: top;\n",
       "    }\n",
       "\n",
       "    .dataframe thead th {\n",
       "        text-align: right;\n",
       "    }\n",
       "</style>\n",
       "<table border=\"1\" class=\"dataframe\">\n",
       "  <thead>\n",
       "    <tr style=\"text-align: right;\">\n",
       "      <th></th>\n",
       "      <th>year</th>\n",
       "      <th>month</th>\n",
       "      <th>carrier</th>\n",
       "      <th>carrier_name</th>\n",
       "      <th>airport</th>\n",
       "      <th>airport_name</th>\n",
       "      <th>arr_flights</th>\n",
       "      <th>arr_del15</th>\n",
       "      <th>carrier_ct</th>\n",
       "      <th>weather_ct</th>\n",
       "      <th>...</th>\n",
       "      <th>late_aircraft_ct</th>\n",
       "      <th>arr_cancelled</th>\n",
       "      <th>arr_diverted</th>\n",
       "      <th>arr_delay</th>\n",
       "      <th>carrier_delay</th>\n",
       "      <th>weather_delay</th>\n",
       "      <th>nas_delay</th>\n",
       "      <th>security_delay</th>\n",
       "      <th>late_aircraft_delay</th>\n",
       "      <th>Unnamed: 21</th>\n",
       "    </tr>\n",
       "  </thead>\n",
       "  <tbody>\n",
       "  </tbody>\n",
       "</table>\n",
       "<p>0 rows × 22 columns</p>\n",
       "</div>"
      ],
      "text/plain": [
       "Empty DataFrame\n",
       "Columns: [year,  month, carrier, carrier_name, airport, airport_name, arr_flights, arr_del15, carrier_ct,  weather_ct, nas_ct, security_ct, late_aircraft_ct, arr_cancelled, arr_diverted,  arr_delay,  carrier_delay, weather_delay, nas_delay, security_delay, late_aircraft_delay, Unnamed: 21]\n",
       "Index: []\n",
       "\n",
       "[0 rows x 22 columns]"
      ]
     },
     "execution_count": 111,
     "metadata": {},
     "output_type": "execute_result"
    }
   ],
   "source": [
    "df[df.arr_flights.isnull()]"
   ]
  },
  {
   "cell_type": "markdown",
   "metadata": {
    "slideshow": {
     "slide_type": "subslide"
    }
   },
   "source": [
    "def:rename ' month','arr_del15' ,' weather_ct',\n",
    "                ' arr_delay', ' carrier_delay'"
   ]
  },
  {
   "cell_type": "markdown",
   "metadata": {
    "slideshow": {
     "slide_type": "subslide"
    }
   },
   "source": [
    "code:"
   ]
  },
  {
   "cell_type": "code",
   "execution_count": 112,
   "metadata": {
    "slideshow": {
     "slide_type": "subslide"
    }
   },
   "outputs": [],
   "source": [
    "df = df.rename(columns = {' month':'month','arr_del15':'delay_15', ' weather_ct': 'weather_ct', \n",
    "                ' arr_delay': 'arr_delay', ' carrier_delay': 'carrier_delay'})"
   ]
  },
  {
   "cell_type": "markdown",
   "metadata": {
    "slideshow": {
     "slide_type": "subslide"
    }
   },
   "source": [
    "test:\n"
   ]
  },
  {
   "cell_type": "code",
   "execution_count": 113,
   "metadata": {
    "slideshow": {
     "slide_type": "subslide"
    }
   },
   "outputs": [
    {
     "data": {
      "text/html": [
       "<div>\n",
       "<style scoped>\n",
       "    .dataframe tbody tr th:only-of-type {\n",
       "        vertical-align: middle;\n",
       "    }\n",
       "\n",
       "    .dataframe tbody tr th {\n",
       "        vertical-align: top;\n",
       "    }\n",
       "\n",
       "    .dataframe thead th {\n",
       "        text-align: right;\n",
       "    }\n",
       "</style>\n",
       "<table border=\"1\" class=\"dataframe\">\n",
       "  <thead>\n",
       "    <tr style=\"text-align: right;\">\n",
       "      <th></th>\n",
       "      <th>year</th>\n",
       "      <th>month</th>\n",
       "      <th>carrier</th>\n",
       "      <th>carrier_name</th>\n",
       "      <th>airport</th>\n",
       "      <th>airport_name</th>\n",
       "      <th>arr_flights</th>\n",
       "      <th>delay_15</th>\n",
       "      <th>carrier_ct</th>\n",
       "      <th>weather_ct</th>\n",
       "      <th>...</th>\n",
       "      <th>late_aircraft_ct</th>\n",
       "      <th>arr_cancelled</th>\n",
       "      <th>arr_diverted</th>\n",
       "      <th>arr_delay</th>\n",
       "      <th>carrier_delay</th>\n",
       "      <th>weather_delay</th>\n",
       "      <th>nas_delay</th>\n",
       "      <th>security_delay</th>\n",
       "      <th>late_aircraft_delay</th>\n",
       "      <th>Unnamed: 21</th>\n",
       "    </tr>\n",
       "  </thead>\n",
       "  <tbody>\n",
       "    <tr>\n",
       "      <th>0</th>\n",
       "      <td>2020</td>\n",
       "      <td>4</td>\n",
       "      <td>9E</td>\n",
       "      <td>Endeavor Air Inc.</td>\n",
       "      <td>AEX</td>\n",
       "      <td>Alexandria, LA: Alexandria International</td>\n",
       "      <td>47.0</td>\n",
       "      <td>5.0</td>\n",
       "      <td>1.78</td>\n",
       "      <td>0.00</td>\n",
       "      <td>...</td>\n",
       "      <td>0.00</td>\n",
       "      <td>6.0</td>\n",
       "      <td>0.0</td>\n",
       "      <td>172.0</td>\n",
       "      <td>104.0</td>\n",
       "      <td>0.0</td>\n",
       "      <td>68.0</td>\n",
       "      <td>0.0</td>\n",
       "      <td>0.0</td>\n",
       "      <td>NaN</td>\n",
       "    </tr>\n",
       "    <tr>\n",
       "      <th>1</th>\n",
       "      <td>2020</td>\n",
       "      <td>4</td>\n",
       "      <td>9E</td>\n",
       "      <td>Endeavor Air Inc.</td>\n",
       "      <td>AGS</td>\n",
       "      <td>Augusta, GA: Augusta Regional at Bush Field</td>\n",
       "      <td>86.0</td>\n",
       "      <td>4.0</td>\n",
       "      <td>1.97</td>\n",
       "      <td>0.00</td>\n",
       "      <td>...</td>\n",
       "      <td>0.93</td>\n",
       "      <td>15.0</td>\n",
       "      <td>0.0</td>\n",
       "      <td>277.0</td>\n",
       "      <td>180.0</td>\n",
       "      <td>0.0</td>\n",
       "      <td>35.0</td>\n",
       "      <td>0.0</td>\n",
       "      <td>62.0</td>\n",
       "      <td>NaN</td>\n",
       "    </tr>\n",
       "    <tr>\n",
       "      <th>2</th>\n",
       "      <td>2020</td>\n",
       "      <td>4</td>\n",
       "      <td>9E</td>\n",
       "      <td>Endeavor Air Inc.</td>\n",
       "      <td>ALB</td>\n",
       "      <td>Albany, NY: Albany International</td>\n",
       "      <td>1.0</td>\n",
       "      <td>0.0</td>\n",
       "      <td>0.00</td>\n",
       "      <td>0.00</td>\n",
       "      <td>...</td>\n",
       "      <td>0.00</td>\n",
       "      <td>0.0</td>\n",
       "      <td>0.0</td>\n",
       "      <td>0.0</td>\n",
       "      <td>0.0</td>\n",
       "      <td>0.0</td>\n",
       "      <td>0.0</td>\n",
       "      <td>0.0</td>\n",
       "      <td>0.0</td>\n",
       "      <td>NaN</td>\n",
       "    </tr>\n",
       "    <tr>\n",
       "      <th>3</th>\n",
       "      <td>2020</td>\n",
       "      <td>4</td>\n",
       "      <td>9E</td>\n",
       "      <td>Endeavor Air Inc.</td>\n",
       "      <td>ATL</td>\n",
       "      <td>Atlanta, GA: Hartsfield-Jackson Atlanta Intern...</td>\n",
       "      <td>1314.0</td>\n",
       "      <td>56.0</td>\n",
       "      <td>36.33</td>\n",
       "      <td>2.45</td>\n",
       "      <td>...</td>\n",
       "      <td>9.33</td>\n",
       "      <td>288.0</td>\n",
       "      <td>1.0</td>\n",
       "      <td>4619.0</td>\n",
       "      <td>3437.0</td>\n",
       "      <td>251.0</td>\n",
       "      <td>270.0</td>\n",
       "      <td>0.0</td>\n",
       "      <td>661.0</td>\n",
       "      <td>NaN</td>\n",
       "    </tr>\n",
       "    <tr>\n",
       "      <th>4</th>\n",
       "      <td>2020</td>\n",
       "      <td>4</td>\n",
       "      <td>9E</td>\n",
       "      <td>Endeavor Air Inc.</td>\n",
       "      <td>ATW</td>\n",
       "      <td>Appleton, WI: Appleton International</td>\n",
       "      <td>1.0</td>\n",
       "      <td>0.0</td>\n",
       "      <td>0.00</td>\n",
       "      <td>0.00</td>\n",
       "      <td>...</td>\n",
       "      <td>0.00</td>\n",
       "      <td>0.0</td>\n",
       "      <td>0.0</td>\n",
       "      <td>0.0</td>\n",
       "      <td>0.0</td>\n",
       "      <td>0.0</td>\n",
       "      <td>0.0</td>\n",
       "      <td>0.0</td>\n",
       "      <td>0.0</td>\n",
       "      <td>NaN</td>\n",
       "    </tr>\n",
       "    <tr>\n",
       "      <th>...</th>\n",
       "      <td>...</td>\n",
       "      <td>...</td>\n",
       "      <td>...</td>\n",
       "      <td>...</td>\n",
       "      <td>...</td>\n",
       "      <td>...</td>\n",
       "      <td>...</td>\n",
       "      <td>...</td>\n",
       "      <td>...</td>\n",
       "      <td>...</td>\n",
       "      <td>...</td>\n",
       "      <td>...</td>\n",
       "      <td>...</td>\n",
       "      <td>...</td>\n",
       "      <td>...</td>\n",
       "      <td>...</td>\n",
       "      <td>...</td>\n",
       "      <td>...</td>\n",
       "      <td>...</td>\n",
       "      <td>...</td>\n",
       "      <td>...</td>\n",
       "    </tr>\n",
       "    <tr>\n",
       "      <th>1646</th>\n",
       "      <td>2020</td>\n",
       "      <td>4</td>\n",
       "      <td>YX</td>\n",
       "      <td>Republic Airline</td>\n",
       "      <td>TPA</td>\n",
       "      <td>Tampa, FL: Tampa International</td>\n",
       "      <td>12.0</td>\n",
       "      <td>0.0</td>\n",
       "      <td>0.00</td>\n",
       "      <td>0.00</td>\n",
       "      <td>...</td>\n",
       "      <td>0.00</td>\n",
       "      <td>8.0</td>\n",
       "      <td>0.0</td>\n",
       "      <td>0.0</td>\n",
       "      <td>0.0</td>\n",
       "      <td>0.0</td>\n",
       "      <td>0.0</td>\n",
       "      <td>0.0</td>\n",
       "      <td>0.0</td>\n",
       "      <td>NaN</td>\n",
       "    </tr>\n",
       "    <tr>\n",
       "      <th>1647</th>\n",
       "      <td>2020</td>\n",
       "      <td>4</td>\n",
       "      <td>YX</td>\n",
       "      <td>Republic Airline</td>\n",
       "      <td>TUS</td>\n",
       "      <td>Tucson, AZ: Tucson International</td>\n",
       "      <td>30.0</td>\n",
       "      <td>0.0</td>\n",
       "      <td>0.00</td>\n",
       "      <td>0.00</td>\n",
       "      <td>...</td>\n",
       "      <td>0.00</td>\n",
       "      <td>1.0</td>\n",
       "      <td>0.0</td>\n",
       "      <td>0.0</td>\n",
       "      <td>0.0</td>\n",
       "      <td>0.0</td>\n",
       "      <td>0.0</td>\n",
       "      <td>0.0</td>\n",
       "      <td>0.0</td>\n",
       "      <td>NaN</td>\n",
       "    </tr>\n",
       "    <tr>\n",
       "      <th>1648</th>\n",
       "      <td>2020</td>\n",
       "      <td>4</td>\n",
       "      <td>YX</td>\n",
       "      <td>Republic Airline</td>\n",
       "      <td>TYS</td>\n",
       "      <td>Knoxville, TN: McGhee Tyson</td>\n",
       "      <td>74.0</td>\n",
       "      <td>1.0</td>\n",
       "      <td>0.00</td>\n",
       "      <td>0.00</td>\n",
       "      <td>...</td>\n",
       "      <td>1.00</td>\n",
       "      <td>31.0</td>\n",
       "      <td>0.0</td>\n",
       "      <td>41.0</td>\n",
       "      <td>0.0</td>\n",
       "      <td>0.0</td>\n",
       "      <td>0.0</td>\n",
       "      <td>0.0</td>\n",
       "      <td>41.0</td>\n",
       "      <td>NaN</td>\n",
       "    </tr>\n",
       "    <tr>\n",
       "      <th>1649</th>\n",
       "      <td>2020</td>\n",
       "      <td>4</td>\n",
       "      <td>YX</td>\n",
       "      <td>Republic Airline</td>\n",
       "      <td>VPS</td>\n",
       "      <td>Valparaiso, FL: Eglin AFB Destin Fort Walton B...</td>\n",
       "      <td>6.0</td>\n",
       "      <td>1.0</td>\n",
       "      <td>0.00</td>\n",
       "      <td>0.00</td>\n",
       "      <td>...</td>\n",
       "      <td>0.00</td>\n",
       "      <td>2.0</td>\n",
       "      <td>0.0</td>\n",
       "      <td>59.0</td>\n",
       "      <td>0.0</td>\n",
       "      <td>0.0</td>\n",
       "      <td>59.0</td>\n",
       "      <td>0.0</td>\n",
       "      <td>0.0</td>\n",
       "      <td>NaN</td>\n",
       "    </tr>\n",
       "    <tr>\n",
       "      <th>1650</th>\n",
       "      <td>2020</td>\n",
       "      <td>4</td>\n",
       "      <td>YX</td>\n",
       "      <td>Republic Airline</td>\n",
       "      <td>XNA</td>\n",
       "      <td>Fayetteville, AR: Northwest Arkansas Regional</td>\n",
       "      <td>110.0</td>\n",
       "      <td>1.0</td>\n",
       "      <td>0.87</td>\n",
       "      <td>0.00</td>\n",
       "      <td>...</td>\n",
       "      <td>0.00</td>\n",
       "      <td>36.0</td>\n",
       "      <td>0.0</td>\n",
       "      <td>30.0</td>\n",
       "      <td>26.0</td>\n",
       "      <td>0.0</td>\n",
       "      <td>4.0</td>\n",
       "      <td>0.0</td>\n",
       "      <td>0.0</td>\n",
       "      <td>NaN</td>\n",
       "    </tr>\n",
       "  </tbody>\n",
       "</table>\n",
       "<p>1622 rows × 22 columns</p>\n",
       "</div>"
      ],
      "text/plain": [
       "      year  month carrier       carrier_name airport  \\\n",
       "0     2020      4      9E  Endeavor Air Inc.     AEX   \n",
       "1     2020      4      9E  Endeavor Air Inc.     AGS   \n",
       "2     2020      4      9E  Endeavor Air Inc.     ALB   \n",
       "3     2020      4      9E  Endeavor Air Inc.     ATL   \n",
       "4     2020      4      9E  Endeavor Air Inc.     ATW   \n",
       "...    ...    ...     ...                ...     ...   \n",
       "1646  2020      4      YX   Republic Airline     TPA   \n",
       "1647  2020      4      YX   Republic Airline     TUS   \n",
       "1648  2020      4      YX   Republic Airline     TYS   \n",
       "1649  2020      4      YX   Republic Airline     VPS   \n",
       "1650  2020      4      YX   Republic Airline     XNA   \n",
       "\n",
       "                                           airport_name  arr_flights  \\\n",
       "0              Alexandria, LA: Alexandria International         47.0   \n",
       "1           Augusta, GA: Augusta Regional at Bush Field         86.0   \n",
       "2                      Albany, NY: Albany International          1.0   \n",
       "3     Atlanta, GA: Hartsfield-Jackson Atlanta Intern...       1314.0   \n",
       "4                  Appleton, WI: Appleton International          1.0   \n",
       "...                                                 ...          ...   \n",
       "1646                     Tampa, FL: Tampa International         12.0   \n",
       "1647                   Tucson, AZ: Tucson International         30.0   \n",
       "1648                        Knoxville, TN: McGhee Tyson         74.0   \n",
       "1649  Valparaiso, FL: Eglin AFB Destin Fort Walton B...          6.0   \n",
       "1650      Fayetteville, AR: Northwest Arkansas Regional        110.0   \n",
       "\n",
       "      delay_15  carrier_ct  weather_ct  ...  late_aircraft_ct  arr_cancelled  \\\n",
       "0          5.0        1.78        0.00  ...              0.00            6.0   \n",
       "1          4.0        1.97        0.00  ...              0.93           15.0   \n",
       "2          0.0        0.00        0.00  ...              0.00            0.0   \n",
       "3         56.0       36.33        2.45  ...              9.33          288.0   \n",
       "4          0.0        0.00        0.00  ...              0.00            0.0   \n",
       "...        ...         ...         ...  ...               ...            ...   \n",
       "1646       0.0        0.00        0.00  ...              0.00            8.0   \n",
       "1647       0.0        0.00        0.00  ...              0.00            1.0   \n",
       "1648       1.0        0.00        0.00  ...              1.00           31.0   \n",
       "1649       1.0        0.00        0.00  ...              0.00            2.0   \n",
       "1650       1.0        0.87        0.00  ...              0.00           36.0   \n",
       "\n",
       "      arr_diverted  arr_delay  carrier_delay  weather_delay  nas_delay  \\\n",
       "0              0.0      172.0          104.0            0.0       68.0   \n",
       "1              0.0      277.0          180.0            0.0       35.0   \n",
       "2              0.0        0.0            0.0            0.0        0.0   \n",
       "3              1.0     4619.0         3437.0          251.0      270.0   \n",
       "4              0.0        0.0            0.0            0.0        0.0   \n",
       "...            ...        ...            ...            ...        ...   \n",
       "1646           0.0        0.0            0.0            0.0        0.0   \n",
       "1647           0.0        0.0            0.0            0.0        0.0   \n",
       "1648           0.0       41.0            0.0            0.0        0.0   \n",
       "1649           0.0       59.0            0.0            0.0       59.0   \n",
       "1650           0.0       30.0           26.0            0.0        4.0   \n",
       "\n",
       "      security_delay  late_aircraft_delay  Unnamed: 21  \n",
       "0                0.0                  0.0          NaN  \n",
       "1                0.0                 62.0          NaN  \n",
       "2                0.0                  0.0          NaN  \n",
       "3                0.0                661.0          NaN  \n",
       "4                0.0                  0.0          NaN  \n",
       "...              ...                  ...          ...  \n",
       "1646             0.0                  0.0          NaN  \n",
       "1647             0.0                  0.0          NaN  \n",
       "1648             0.0                 41.0          NaN  \n",
       "1649             0.0                  0.0          NaN  \n",
       "1650             0.0                  0.0          NaN  \n",
       "\n",
       "[1622 rows x 22 columns]"
      ]
     },
     "execution_count": 113,
     "metadata": {},
     "output_type": "execute_result"
    }
   ],
   "source": [
    "df"
   ]
  },
  {
   "cell_type": "markdown",
   "metadata": {
    "slideshow": {
     "slide_type": "subslide"
    }
   },
   "source": [
    "def:  drop Unnamed: 21 "
   ]
  },
  {
   "cell_type": "markdown",
   "metadata": {
    "slideshow": {
     "slide_type": "subslide"
    }
   },
   "source": [
    "code:"
   ]
  },
  {
   "cell_type": "code",
   "execution_count": 114,
   "metadata": {
    "slideshow": {
     "slide_type": "subslide"
    }
   },
   "outputs": [],
   "source": [
    "df = df.drop('Unnamed: 21', axis=1)"
   ]
  },
  {
   "cell_type": "markdown",
   "metadata": {
    "slideshow": {
     "slide_type": "subslide"
    }
   },
   "source": [
    "test:"
   ]
  },
  {
   "cell_type": "code",
   "execution_count": 115,
   "metadata": {
    "slideshow": {
     "slide_type": "subslide"
    }
   },
   "outputs": [
    {
     "name": "stdout",
     "output_type": "stream",
     "text": [
      "<class 'pandas.core.frame.DataFrame'>\n",
      "Int64Index: 1622 entries, 0 to 1650\n",
      "Data columns (total 21 columns):\n",
      " #   Column               Non-Null Count  Dtype  \n",
      "---  ------               --------------  -----  \n",
      " 0   year                 1622 non-null   int64  \n",
      " 1   month                1622 non-null   int64  \n",
      " 2   carrier              1622 non-null   object \n",
      " 3   carrier_name         1622 non-null   object \n",
      " 4   airport              1622 non-null   object \n",
      " 5   airport_name         1622 non-null   object \n",
      " 6   arr_flights          1622 non-null   float64\n",
      " 7   delay_15             1489 non-null   float64\n",
      " 8   carrier_ct           1622 non-null   float64\n",
      " 9   weather_ct           1622 non-null   float64\n",
      " 10  nas_ct               1622 non-null   float64\n",
      " 11  security_ct          1622 non-null   float64\n",
      " 12  late_aircraft_ct     1622 non-null   float64\n",
      " 13  arr_cancelled        1622 non-null   float64\n",
      " 14  arr_diverted         1622 non-null   float64\n",
      " 15  arr_delay            1622 non-null   float64\n",
      " 16  carrier_delay        1622 non-null   float64\n",
      " 17  weather_delay        1622 non-null   float64\n",
      " 18  nas_delay            1622 non-null   float64\n",
      " 19  security_delay       1622 non-null   float64\n",
      " 20  late_aircraft_delay  1622 non-null   float64\n",
      "dtypes: float64(15), int64(2), object(4)\n",
      "memory usage: 278.8+ KB\n"
     ]
    }
   ],
   "source": [
    "df.info()"
   ]
  },
  {
   "cell_type": "markdown",
   "metadata": {
    "slideshow": {
     "slide_type": "subslide"
    }
   },
   "source": [
    "def: transform delay_15 none should to 0"
   ]
  },
  {
   "cell_type": "markdown",
   "metadata": {
    "slideshow": {
     "slide_type": "subslide"
    }
   },
   "source": [
    "code:"
   ]
  },
  {
   "cell_type": "code",
   "execution_count": 116,
   "metadata": {
    "slideshow": {
     "slide_type": "subslide"
    }
   },
   "outputs": [],
   "source": [
    "df = df.drop(df[df['delay_15'].isnull()].index, axis=0)\n",
    "df['delay_15'].replace('None', 0, inplace=True)"
   ]
  },
  {
   "cell_type": "markdown",
   "metadata": {
    "slideshow": {
     "slide_type": "subslide"
    }
   },
   "source": [
    "test:"
   ]
  },
  {
   "cell_type": "code",
   "execution_count": 117,
   "metadata": {
    "slideshow": {
     "slide_type": "subslide"
    }
   },
   "outputs": [
    {
     "data": {
      "text/plain": [
       "0"
      ]
     },
     "execution_count": 117,
     "metadata": {},
     "output_type": "execute_result"
    }
   ],
   "source": [
    "sum(df.delay_15.isnull())"
   ]
  },
  {
   "cell_type": "code",
   "execution_count": 118,
   "metadata": {
    "slideshow": {
     "slide_type": "subslide"
    }
   },
   "outputs": [
    {
     "name": "stdout",
     "output_type": "stream",
     "text": [
      "<class 'pandas.core.frame.DataFrame'>\n",
      "Int64Index: 1489 entries, 0 to 1650\n",
      "Data columns (total 21 columns):\n",
      " #   Column               Non-Null Count  Dtype  \n",
      "---  ------               --------------  -----  \n",
      " 0   year                 1489 non-null   int64  \n",
      " 1   month                1489 non-null   int64  \n",
      " 2   carrier              1489 non-null   object \n",
      " 3   carrier_name         1489 non-null   object \n",
      " 4   airport              1489 non-null   object \n",
      " 5   airport_name         1489 non-null   object \n",
      " 6   arr_flights          1489 non-null   float64\n",
      " 7   delay_15             1489 non-null   float64\n",
      " 8   carrier_ct           1489 non-null   float64\n",
      " 9   weather_ct           1489 non-null   float64\n",
      " 10  nas_ct               1489 non-null   float64\n",
      " 11  security_ct          1489 non-null   float64\n",
      " 12  late_aircraft_ct     1489 non-null   float64\n",
      " 13  arr_cancelled        1489 non-null   float64\n",
      " 14  arr_diverted         1489 non-null   float64\n",
      " 15  arr_delay            1489 non-null   float64\n",
      " 16  carrier_delay        1489 non-null   float64\n",
      " 17  weather_delay        1489 non-null   float64\n",
      " 18  nas_delay            1489 non-null   float64\n",
      " 19  security_delay       1489 non-null   float64\n",
      " 20  late_aircraft_delay  1489 non-null   float64\n",
      "dtypes: float64(15), int64(2), object(4)\n",
      "memory usage: 255.9+ KB\n"
     ]
    }
   ],
   "source": [
    "df.info()"
   ]
  },
  {
   "cell_type": "code",
   "execution_count": 119,
   "metadata": {
    "slideshow": {
     "slide_type": "subslide"
    }
   },
   "outputs": [
    {
     "data": {
      "text/html": [
       "<div>\n",
       "<style scoped>\n",
       "    .dataframe tbody tr th:only-of-type {\n",
       "        vertical-align: middle;\n",
       "    }\n",
       "\n",
       "    .dataframe tbody tr th {\n",
       "        vertical-align: top;\n",
       "    }\n",
       "\n",
       "    .dataframe thead th {\n",
       "        text-align: right;\n",
       "    }\n",
       "</style>\n",
       "<table border=\"1\" class=\"dataframe\">\n",
       "  <thead>\n",
       "    <tr style=\"text-align: right;\">\n",
       "      <th></th>\n",
       "      <th>year</th>\n",
       "      <th>month</th>\n",
       "      <th>carrier</th>\n",
       "      <th>carrier_name</th>\n",
       "      <th>airport</th>\n",
       "      <th>airport_name</th>\n",
       "      <th>arr_flights</th>\n",
       "      <th>delay_15</th>\n",
       "      <th>carrier_ct</th>\n",
       "      <th>weather_ct</th>\n",
       "      <th>...</th>\n",
       "      <th>security_ct</th>\n",
       "      <th>late_aircraft_ct</th>\n",
       "      <th>arr_cancelled</th>\n",
       "      <th>arr_diverted</th>\n",
       "      <th>arr_delay</th>\n",
       "      <th>carrier_delay</th>\n",
       "      <th>weather_delay</th>\n",
       "      <th>nas_delay</th>\n",
       "      <th>security_delay</th>\n",
       "      <th>late_aircraft_delay</th>\n",
       "    </tr>\n",
       "  </thead>\n",
       "  <tbody>\n",
       "    <tr>\n",
       "      <th>0</th>\n",
       "      <td>2020</td>\n",
       "      <td>4</td>\n",
       "      <td>9E</td>\n",
       "      <td>Endeavor Air Inc.</td>\n",
       "      <td>AEX</td>\n",
       "      <td>Alexandria, LA: Alexandria International</td>\n",
       "      <td>47.0</td>\n",
       "      <td>5.0</td>\n",
       "      <td>1.78</td>\n",
       "      <td>0.00</td>\n",
       "      <td>...</td>\n",
       "      <td>0.0</td>\n",
       "      <td>0.00</td>\n",
       "      <td>6.0</td>\n",
       "      <td>0.0</td>\n",
       "      <td>172.0</td>\n",
       "      <td>104.0</td>\n",
       "      <td>0.0</td>\n",
       "      <td>68.0</td>\n",
       "      <td>0.0</td>\n",
       "      <td>0.0</td>\n",
       "    </tr>\n",
       "    <tr>\n",
       "      <th>1</th>\n",
       "      <td>2020</td>\n",
       "      <td>4</td>\n",
       "      <td>9E</td>\n",
       "      <td>Endeavor Air Inc.</td>\n",
       "      <td>AGS</td>\n",
       "      <td>Augusta, GA: Augusta Regional at Bush Field</td>\n",
       "      <td>86.0</td>\n",
       "      <td>4.0</td>\n",
       "      <td>1.97</td>\n",
       "      <td>0.00</td>\n",
       "      <td>...</td>\n",
       "      <td>0.0</td>\n",
       "      <td>0.93</td>\n",
       "      <td>15.0</td>\n",
       "      <td>0.0</td>\n",
       "      <td>277.0</td>\n",
       "      <td>180.0</td>\n",
       "      <td>0.0</td>\n",
       "      <td>35.0</td>\n",
       "      <td>0.0</td>\n",
       "      <td>62.0</td>\n",
       "    </tr>\n",
       "    <tr>\n",
       "      <th>2</th>\n",
       "      <td>2020</td>\n",
       "      <td>4</td>\n",
       "      <td>9E</td>\n",
       "      <td>Endeavor Air Inc.</td>\n",
       "      <td>ALB</td>\n",
       "      <td>Albany, NY: Albany International</td>\n",
       "      <td>1.0</td>\n",
       "      <td>0.0</td>\n",
       "      <td>0.00</td>\n",
       "      <td>0.00</td>\n",
       "      <td>...</td>\n",
       "      <td>0.0</td>\n",
       "      <td>0.00</td>\n",
       "      <td>0.0</td>\n",
       "      <td>0.0</td>\n",
       "      <td>0.0</td>\n",
       "      <td>0.0</td>\n",
       "      <td>0.0</td>\n",
       "      <td>0.0</td>\n",
       "      <td>0.0</td>\n",
       "      <td>0.0</td>\n",
       "    </tr>\n",
       "    <tr>\n",
       "      <th>3</th>\n",
       "      <td>2020</td>\n",
       "      <td>4</td>\n",
       "      <td>9E</td>\n",
       "      <td>Endeavor Air Inc.</td>\n",
       "      <td>ATL</td>\n",
       "      <td>Atlanta, GA: Hartsfield-Jackson Atlanta Intern...</td>\n",
       "      <td>1314.0</td>\n",
       "      <td>56.0</td>\n",
       "      <td>36.33</td>\n",
       "      <td>2.45</td>\n",
       "      <td>...</td>\n",
       "      <td>0.0</td>\n",
       "      <td>9.33</td>\n",
       "      <td>288.0</td>\n",
       "      <td>1.0</td>\n",
       "      <td>4619.0</td>\n",
       "      <td>3437.0</td>\n",
       "      <td>251.0</td>\n",
       "      <td>270.0</td>\n",
       "      <td>0.0</td>\n",
       "      <td>661.0</td>\n",
       "    </tr>\n",
       "    <tr>\n",
       "      <th>4</th>\n",
       "      <td>2020</td>\n",
       "      <td>4</td>\n",
       "      <td>9E</td>\n",
       "      <td>Endeavor Air Inc.</td>\n",
       "      <td>ATW</td>\n",
       "      <td>Appleton, WI: Appleton International</td>\n",
       "      <td>1.0</td>\n",
       "      <td>0.0</td>\n",
       "      <td>0.00</td>\n",
       "      <td>0.00</td>\n",
       "      <td>...</td>\n",
       "      <td>0.0</td>\n",
       "      <td>0.00</td>\n",
       "      <td>0.0</td>\n",
       "      <td>0.0</td>\n",
       "      <td>0.0</td>\n",
       "      <td>0.0</td>\n",
       "      <td>0.0</td>\n",
       "      <td>0.0</td>\n",
       "      <td>0.0</td>\n",
       "      <td>0.0</td>\n",
       "    </tr>\n",
       "    <tr>\n",
       "      <th>...</th>\n",
       "      <td>...</td>\n",
       "      <td>...</td>\n",
       "      <td>...</td>\n",
       "      <td>...</td>\n",
       "      <td>...</td>\n",
       "      <td>...</td>\n",
       "      <td>...</td>\n",
       "      <td>...</td>\n",
       "      <td>...</td>\n",
       "      <td>...</td>\n",
       "      <td>...</td>\n",
       "      <td>...</td>\n",
       "      <td>...</td>\n",
       "      <td>...</td>\n",
       "      <td>...</td>\n",
       "      <td>...</td>\n",
       "      <td>...</td>\n",
       "      <td>...</td>\n",
       "      <td>...</td>\n",
       "      <td>...</td>\n",
       "      <td>...</td>\n",
       "    </tr>\n",
       "    <tr>\n",
       "      <th>1646</th>\n",
       "      <td>2020</td>\n",
       "      <td>4</td>\n",
       "      <td>YX</td>\n",
       "      <td>Republic Airline</td>\n",
       "      <td>TPA</td>\n",
       "      <td>Tampa, FL: Tampa International</td>\n",
       "      <td>12.0</td>\n",
       "      <td>0.0</td>\n",
       "      <td>0.00</td>\n",
       "      <td>0.00</td>\n",
       "      <td>...</td>\n",
       "      <td>0.0</td>\n",
       "      <td>0.00</td>\n",
       "      <td>8.0</td>\n",
       "      <td>0.0</td>\n",
       "      <td>0.0</td>\n",
       "      <td>0.0</td>\n",
       "      <td>0.0</td>\n",
       "      <td>0.0</td>\n",
       "      <td>0.0</td>\n",
       "      <td>0.0</td>\n",
       "    </tr>\n",
       "    <tr>\n",
       "      <th>1647</th>\n",
       "      <td>2020</td>\n",
       "      <td>4</td>\n",
       "      <td>YX</td>\n",
       "      <td>Republic Airline</td>\n",
       "      <td>TUS</td>\n",
       "      <td>Tucson, AZ: Tucson International</td>\n",
       "      <td>30.0</td>\n",
       "      <td>0.0</td>\n",
       "      <td>0.00</td>\n",
       "      <td>0.00</td>\n",
       "      <td>...</td>\n",
       "      <td>0.0</td>\n",
       "      <td>0.00</td>\n",
       "      <td>1.0</td>\n",
       "      <td>0.0</td>\n",
       "      <td>0.0</td>\n",
       "      <td>0.0</td>\n",
       "      <td>0.0</td>\n",
       "      <td>0.0</td>\n",
       "      <td>0.0</td>\n",
       "      <td>0.0</td>\n",
       "    </tr>\n",
       "    <tr>\n",
       "      <th>1648</th>\n",
       "      <td>2020</td>\n",
       "      <td>4</td>\n",
       "      <td>YX</td>\n",
       "      <td>Republic Airline</td>\n",
       "      <td>TYS</td>\n",
       "      <td>Knoxville, TN: McGhee Tyson</td>\n",
       "      <td>74.0</td>\n",
       "      <td>1.0</td>\n",
       "      <td>0.00</td>\n",
       "      <td>0.00</td>\n",
       "      <td>...</td>\n",
       "      <td>0.0</td>\n",
       "      <td>1.00</td>\n",
       "      <td>31.0</td>\n",
       "      <td>0.0</td>\n",
       "      <td>41.0</td>\n",
       "      <td>0.0</td>\n",
       "      <td>0.0</td>\n",
       "      <td>0.0</td>\n",
       "      <td>0.0</td>\n",
       "      <td>41.0</td>\n",
       "    </tr>\n",
       "    <tr>\n",
       "      <th>1649</th>\n",
       "      <td>2020</td>\n",
       "      <td>4</td>\n",
       "      <td>YX</td>\n",
       "      <td>Republic Airline</td>\n",
       "      <td>VPS</td>\n",
       "      <td>Valparaiso, FL: Eglin AFB Destin Fort Walton B...</td>\n",
       "      <td>6.0</td>\n",
       "      <td>1.0</td>\n",
       "      <td>0.00</td>\n",
       "      <td>0.00</td>\n",
       "      <td>...</td>\n",
       "      <td>0.0</td>\n",
       "      <td>0.00</td>\n",
       "      <td>2.0</td>\n",
       "      <td>0.0</td>\n",
       "      <td>59.0</td>\n",
       "      <td>0.0</td>\n",
       "      <td>0.0</td>\n",
       "      <td>59.0</td>\n",
       "      <td>0.0</td>\n",
       "      <td>0.0</td>\n",
       "    </tr>\n",
       "    <tr>\n",
       "      <th>1650</th>\n",
       "      <td>2020</td>\n",
       "      <td>4</td>\n",
       "      <td>YX</td>\n",
       "      <td>Republic Airline</td>\n",
       "      <td>XNA</td>\n",
       "      <td>Fayetteville, AR: Northwest Arkansas Regional</td>\n",
       "      <td>110.0</td>\n",
       "      <td>1.0</td>\n",
       "      <td>0.87</td>\n",
       "      <td>0.00</td>\n",
       "      <td>...</td>\n",
       "      <td>0.0</td>\n",
       "      <td>0.00</td>\n",
       "      <td>36.0</td>\n",
       "      <td>0.0</td>\n",
       "      <td>30.0</td>\n",
       "      <td>26.0</td>\n",
       "      <td>0.0</td>\n",
       "      <td>4.0</td>\n",
       "      <td>0.0</td>\n",
       "      <td>0.0</td>\n",
       "    </tr>\n",
       "  </tbody>\n",
       "</table>\n",
       "<p>1489 rows × 21 columns</p>\n",
       "</div>"
      ],
      "text/plain": [
       "      year  month carrier       carrier_name airport  \\\n",
       "0     2020      4      9E  Endeavor Air Inc.     AEX   \n",
       "1     2020      4      9E  Endeavor Air Inc.     AGS   \n",
       "2     2020      4      9E  Endeavor Air Inc.     ALB   \n",
       "3     2020      4      9E  Endeavor Air Inc.     ATL   \n",
       "4     2020      4      9E  Endeavor Air Inc.     ATW   \n",
       "...    ...    ...     ...                ...     ...   \n",
       "1646  2020      4      YX   Republic Airline     TPA   \n",
       "1647  2020      4      YX   Republic Airline     TUS   \n",
       "1648  2020      4      YX   Republic Airline     TYS   \n",
       "1649  2020      4      YX   Republic Airline     VPS   \n",
       "1650  2020      4      YX   Republic Airline     XNA   \n",
       "\n",
       "                                           airport_name  arr_flights  \\\n",
       "0              Alexandria, LA: Alexandria International         47.0   \n",
       "1           Augusta, GA: Augusta Regional at Bush Field         86.0   \n",
       "2                      Albany, NY: Albany International          1.0   \n",
       "3     Atlanta, GA: Hartsfield-Jackson Atlanta Intern...       1314.0   \n",
       "4                  Appleton, WI: Appleton International          1.0   \n",
       "...                                                 ...          ...   \n",
       "1646                     Tampa, FL: Tampa International         12.0   \n",
       "1647                   Tucson, AZ: Tucson International         30.0   \n",
       "1648                        Knoxville, TN: McGhee Tyson         74.0   \n",
       "1649  Valparaiso, FL: Eglin AFB Destin Fort Walton B...          6.0   \n",
       "1650      Fayetteville, AR: Northwest Arkansas Regional        110.0   \n",
       "\n",
       "      delay_15  carrier_ct  weather_ct  ...  security_ct  late_aircraft_ct  \\\n",
       "0          5.0        1.78        0.00  ...          0.0              0.00   \n",
       "1          4.0        1.97        0.00  ...          0.0              0.93   \n",
       "2          0.0        0.00        0.00  ...          0.0              0.00   \n",
       "3         56.0       36.33        2.45  ...          0.0              9.33   \n",
       "4          0.0        0.00        0.00  ...          0.0              0.00   \n",
       "...        ...         ...         ...  ...          ...               ...   \n",
       "1646       0.0        0.00        0.00  ...          0.0              0.00   \n",
       "1647       0.0        0.00        0.00  ...          0.0              0.00   \n",
       "1648       1.0        0.00        0.00  ...          0.0              1.00   \n",
       "1649       1.0        0.00        0.00  ...          0.0              0.00   \n",
       "1650       1.0        0.87        0.00  ...          0.0              0.00   \n",
       "\n",
       "      arr_cancelled  arr_diverted  arr_delay  carrier_delay  weather_delay  \\\n",
       "0               6.0           0.0      172.0          104.0            0.0   \n",
       "1              15.0           0.0      277.0          180.0            0.0   \n",
       "2               0.0           0.0        0.0            0.0            0.0   \n",
       "3             288.0           1.0     4619.0         3437.0          251.0   \n",
       "4               0.0           0.0        0.0            0.0            0.0   \n",
       "...             ...           ...        ...            ...            ...   \n",
       "1646            8.0           0.0        0.0            0.0            0.0   \n",
       "1647            1.0           0.0        0.0            0.0            0.0   \n",
       "1648           31.0           0.0       41.0            0.0            0.0   \n",
       "1649            2.0           0.0       59.0            0.0            0.0   \n",
       "1650           36.0           0.0       30.0           26.0            0.0   \n",
       "\n",
       "      nas_delay  security_delay  late_aircraft_delay  \n",
       "0          68.0             0.0                  0.0  \n",
       "1          35.0             0.0                 62.0  \n",
       "2           0.0             0.0                  0.0  \n",
       "3         270.0             0.0                661.0  \n",
       "4           0.0             0.0                  0.0  \n",
       "...         ...             ...                  ...  \n",
       "1646        0.0             0.0                  0.0  \n",
       "1647        0.0             0.0                  0.0  \n",
       "1648        0.0             0.0                 41.0  \n",
       "1649       59.0             0.0                  0.0  \n",
       "1650        4.0             0.0                  0.0  \n",
       "\n",
       "[1489 rows x 21 columns]"
      ]
     },
     "execution_count": 119,
     "metadata": {},
     "output_type": "execute_result"
    }
   ],
   "source": [
    "df"
   ]
  },
  {
   "cell_type": "code",
   "execution_count": 120,
   "metadata": {
    "slideshow": {
     "slide_type": "slide"
    }
   },
   "outputs": [],
   "source": [
    "#now we export our clean df to a csv\n",
    "df.to_csv('cleaned_flight_data.csv')"
   ]
  },
  {
   "cell_type": "markdown",
   "metadata": {
    "slideshow": {
     "slide_type": "slide"
    }
   },
   "source": [
    "# Exploration"
   ]
  },
  {
   "cell_type": "markdown",
   "metadata": {
    "slideshow": {
     "slide_type": "slide"
    }
   },
   "source": [
    "## Univariate"
   ]
  },
  {
   "cell_type": "markdown",
   "metadata": {
    "slideshow": {
     "slide_type": "subslide"
    }
   },
   "source": [
    "In this section, investigate distributions of individual variables. If you see unusual points or outliers, take a deeper look to clean things up and prepare yourself to look at relationships between variables."
   ]
  },
  {
   "cell_type": "code",
   "execution_count": 121,
   "metadata": {
    "slideshow": {
     "slide_type": "slide"
    }
   },
   "outputs": [
    {
     "data": {
      "text/plain": [
       "SkyWest Airlines Inc.      239\n",
       "Envoy Air                  135\n",
       "Delta Air Lines Inc.       116\n",
       "American Airlines Inc.      98\n",
       "Mesa Airlines Inc.          94\n",
       "Southwest Airlines Co.      89\n",
       "Frontier Airlines Inc.      87\n",
       "PSA Airlines Inc.           86\n",
       "United Air Lines Inc.       79\n",
       "Endeavor Air Inc.           74\n",
       "ExpressJet Airlines LLC     72\n",
       "Alaska Airlines Inc.        71\n",
       "Republic Airline            71\n",
       "Allegiant Air               69\n",
       "JetBlue Airways             59\n",
       "Spirit Air Lines            43\n",
       "Hawaiian Airlines Inc.       7\n",
       "Name: carrier_name, dtype: int64"
      ]
     },
     "execution_count": 121,
     "metadata": {},
     "output_type": "execute_result"
    }
   ],
   "source": [
    "df.carrier_name.value_counts()"
   ]
  },
  {
   "cell_type": "code",
   "execution_count": 122,
   "metadata": {
    "slideshow": {
     "slide_type": "slide"
    }
   },
   "outputs": [
    {
     "data": {
      "image/png": "[encoded data removed]",
      "text/plain": [
       "<Figure size 864x432 with 1 Axes>"
      ]
     },
     "metadata": {
      "needs_background": "light"
     },
     "output_type": "display_data"
    }
   ],
   "source": [
    "#setting the size for our plot\n",
    "plt.figure(figsize = [12, 6])\n",
    "blue=sb.color_palette()[0]\n",
    "#creating a bar chart with seaborns countplot function\n",
    "sb.countplot(data = df, y = 'carrier_name',color=blue);\n",
    "\n",
    "plt.title('count of carrier_name');\n"
   ]
  },
  {
   "cell_type": "markdown",
   "metadata": {
    "slideshow": {
     "slide_type": "subslide"
    }
   },
   "source": [
    "<strong>TakeAway</strong>: here we can see the most common carriers.The one with the highest count is SkyWest Airlines and the one with the loest count is hawaiian Airlines,while all the others have similar counts."
   ]
  },
  {
   "cell_type": "code",
   "execution_count": 123,
   "metadata": {
    "slideshow": {
     "slide_type": "slide"
    }
   },
   "outputs": [
    {
     "data": {
      "image/png": "[encoded data removed]",
      "text/plain": [
       "<Figure size 432x288 with 1 Axes>"
      ]
     },
     "metadata": {},
     "output_type": "display_data"
    }
   ],
   "source": [
    "#our labels\n",
    "label ='carrier', 'weather','late_aircraft','nas','secourity'\n",
    "#storring all our datapoints in a list\n",
    "data = [df.carrier_ct.mean(),df.weather_ct.mean(),df.late_aircraft_ct.mean(), \n",
    "               df.nas_ct.mean(),df.security_ct.mean()]\n",
    "#and plotting them\n",
    "plt.pie(data, labels=label, startangle=140)\n",
    "plt.axis('equal')\n",
    "plt.title('ct reasons');\n"
   ]
  },
  {
   "cell_type": "markdown",
   "metadata": {
    "slideshow": {
     "slide_type": "subslide"
    }
   },
   "source": [
    "<strong>TakeAway</strong>  : here we can observe a pie chart with the mean of 5 ct reasons.carrier ct has the highsest mean(again carrier_ct means:number of flights delayed due to air carrier, e.g. maintenance or crew problems, aircraft cleaning, baggage loading, fueling, etc.),while secourity can be barly seen.Wich is suprising to me since I expected secourity to be one of the largest"
   ]
  },
  {
   "cell_type": "code",
   "execution_count": 124,
   "metadata": {
    "slideshow": {
     "slide_type": "slide"
    }
   },
   "outputs": [
    {
     "name": "stdout",
     "output_type": "stream",
     "text": [
      "<class 'pandas.core.frame.DataFrame'>\n",
      "Int64Index: 1489 entries, 0 to 1650\n",
      "Data columns (total 21 columns):\n",
      " #   Column               Non-Null Count  Dtype  \n",
      "---  ------               --------------  -----  \n",
      " 0   year                 1489 non-null   int64  \n",
      " 1   month                1489 non-null   int64  \n",
      " 2   carrier              1489 non-null   object \n",
      " 3   carrier_name         1489 non-null   object \n",
      " 4   airport              1489 non-null   object \n",
      " 5   airport_name         1489 non-null   object \n",
      " 6   arr_flights          1489 non-null   float64\n",
      " 7   delay_15             1489 non-null   float64\n",
      " 8   carrier_ct           1489 non-null   float64\n",
      " 9   weather_ct           1489 non-null   float64\n",
      " 10  nas_ct               1489 non-null   float64\n",
      " 11  security_ct          1489 non-null   float64\n",
      " 12  late_aircraft_ct     1489 non-null   float64\n",
      " 13  arr_cancelled        1489 non-null   float64\n",
      " 14  arr_diverted         1489 non-null   float64\n",
      " 15  arr_delay            1489 non-null   float64\n",
      " 16  carrier_delay        1489 non-null   float64\n",
      " 17  weather_delay        1489 non-null   float64\n",
      " 18  nas_delay            1489 non-null   float64\n",
      " 19  security_delay       1489 non-null   float64\n",
      " 20  late_aircraft_delay  1489 non-null   float64\n",
      "dtypes: float64(15), int64(2), object(4)\n",
      "memory usage: 295.9+ KB\n"
     ]
    }
   ],
   "source": [
    "df.info()"
   ]
  },
  {
   "cell_type": "code",
   "execution_count": 125,
   "metadata": {
    "slideshow": {
     "slide_type": "slide"
    }
   },
   "outputs": [
    {
     "data": {
      "image/png": "[encoded data removed]",
      "text/plain": [
       "<Figure size 720x360 with 1 Axes>"
      ]
     },
     "metadata": {
      "needs_background": "light"
     },
     "output_type": "display_data"
    }
   ],
   "source": [
    "plt.figure(figsize = [10, 5]) \n",
    "#costumising the length of the x axsis\n",
    "plt.xlim(0,150)\n",
    "#srtting our own bins so you see more\n",
    "bin_edges = np.arange(0, df[df.carrier_name=='SkyWest Airlines Inc.'].arr_cancelled.max()+0.5, 1);\n",
    "#plotting the hist\n",
    "plt.hist(df[df.carrier_name=='SkyWest Airlines Inc.'].arr_cancelled,bins = bin_edges);\n",
    "plt.xlabel('arriving cancelled')\n",
    "plt.ylabel('count');\n",
    "plt.title('SkyWest Airlines Inc. arriving cancelled');"
   ]
  },
  {
   "cell_type": "markdown",
   "metadata": {
    "slideshow": {
     "slide_type": "subslide"
    }
   },
   "source": [
    "<strong>TakeAway</strong>: In the first plot we could see that SkyWest Airlines Inc. had the highest count so when I took a deeper look into this carrier you can see a hist about the srriving cancellment and the count of this.The highest count appeares to be between 0 and 20."
   ]
  },
  {
   "cell_type": "code",
   "execution_count": 126,
   "metadata": {
    "slideshow": {
     "slide_type": "slide"
    }
   },
   "outputs": [
    {
     "data": {
      "image/png": "[encoded data removed]",
      "text/plain": [
       "<Figure size 432x288 with 1 Axes>"
      ]
     },
     "metadata": {
      "needs_background": "light"
     },
     "output_type": "display_data"
    }
   ],
   "source": [
    "#costumizing the bins\n",
    "bin_edges = np.arange(0, df['arr_flights'].max()+1, 10);\n",
    "#costumising the length of the x axsis\n",
    "plt.xlim(0,800);\n",
    "#plotting the hist\n",
    "plt.hist(x=df['arr_flights'],bins=bin_edges);\n",
    "plt.title('arriving flights');"
   ]
  },
  {
   "cell_type": "markdown",
   "metadata": {
    "slideshow": {
     "slide_type": "subslide"
    }
   },
   "source": [
    "<strong>TakeAway:</strong>  here I plottet a histogramm of arriving flights.on the x axis is the value and on the y axis is the count.based on this you can see that datapoints between 0 and 100.Meaning that values between 0 and 100 are most common"
   ]
  },
  {
   "cell_type": "markdown",
   "metadata": {
    "slideshow": {
     "slide_type": "slide"
    }
   },
   "source": [
    "## Univariate summary"
   ]
  },
  {
   "cell_type": "markdown",
   "metadata": {
    "slideshow": {
     "slide_type": "subslide"
    }
   },
   "source": [
    "<strong>Discuss the distribution(s) of your variable(s) of interest. Were there any unusual points? Did you need to perform any transformations?</strong>"
   ]
  },
  {
   "cell_type": "markdown",
   "metadata": {
    "slideshow": {
     "slide_type": "fragment"
    }
   },
   "source": [
    "I did not do any transformations and nothing too unusual came across with these plots"
   ]
  },
  {
   "cell_type": "markdown",
   "metadata": {
    "slideshow": {
     "slide_type": "subslide"
    }
   },
   "source": [
    "some interessting observation was though that so little percent of ct is on secourity,since in my expirences secourity always was a delay"
   ]
  },
  {
   "cell_type": "markdown",
   "metadata": {
    "slideshow": {
     "slide_type": "subslide"
    }
   },
   "source": [
    "<strong>Of the features you investigated, were there any unusual distributions? Did you perform any operations on the data to tidy, adjust, or change the form of the data? If so, why did you do this?</strong>"
   ]
  },
  {
   "cell_type": "markdown",
   "metadata": {
    "slideshow": {
     "slide_type": "fragment"
    }
   },
   "source": [
    "I could see that skywest airlains was by far the moost common carrier and I did not perform any operations"
   ]
  },
  {
   "cell_type": "markdown",
   "metadata": {
    "slideshow": {
     "slide_type": "slide"
    }
   },
   "source": [
    "## Bivariate Exploration"
   ]
  },
  {
   "cell_type": "markdown",
   "metadata": {
    "slideshow": {
     "slide_type": "subslide"
    }
   },
   "source": [
    "In this section, investigate relationships between pairs of variables in your data. Make sure the variables that you cover here have been introduced in some fashion in the previous section (univariate exploration)."
   ]
  },
  {
   "cell_type": "code",
   "execution_count": 127,
   "metadata": {
    "slideshow": {
     "slide_type": "slide"
    }
   },
   "outputs": [
    {
     "data": {
      "text/plain": [
       "<matplotlib.axes._subplots.AxesSubplot at 0x7ff47108e1d0>"
      ]
     },
     "execution_count": 127,
     "metadata": {},
     "output_type": "execute_result"
    },
    {
     "data": {
      "image/png": "[encoded data removed]",
      "text/plain": [
       "<Figure size 432x288 with 1 Axes>"
      ]
     },
     "metadata": {
      "needs_background": "light"
     },
     "output_type": "display_data"
    }
   ],
   "source": [
    "blue=sb.color_palette()[0]\n",
    "sb.barplot(data = df.sort_values(by=['carrier']), \n",
    "           y = 'carrier_name', x=\"arr_cancelled\", color = blue)\n",
    "# the color parameter sets all bars to blue instead of the defoult palette"
   ]
  },
  {
   "cell_type": "markdown",
   "metadata": {
    "slideshow": {
     "slide_type": "subslide"
    }
   },
   "source": [
    "<strong>TakeAway:</strong> here you can see that most airplans canceled is in SouthWest airlines(wich is obvious since SouthWest airlines are the most common carrier as proven in the last plot),the interessting part is that hawaiian Airlines does not have the least counts even dough it was proven to be the the least common carrier .you can also observe their means min and max.The min being the where the line starts,the max beeing where the line ends.And the crossing between the blue bar and black line beeing the mean."
   ]
  },
  {
   "cell_type": "code",
   "execution_count": 128,
   "metadata": {
    "slideshow": {
     "slide_type": "slide"
    }
   },
   "outputs": [
    {
     "data": {
      "text/plain": [
       "Text(0.5, 0, 'arr_flights')"
      ]
     },
     "execution_count": 128,
     "metadata": {},
     "output_type": "execute_result"
    },
    {
     "data": {
      "image/png": "[encoded data removed]",
      "text/plain": [
       "<Figure size 432x288 with 1 Axes>"
      ]
     },
     "metadata": {
      "needs_background": "light"
     },
     "output_type": "display_data"
    }
   ],
   "source": [
    "#alpha parameter make the less busy dataploins transperant\n",
    "plt.scatter(x=df.arr_flights,y=df.nas_delay,alpha=1/5)\n",
    "\n",
    "#setting personalized x and y lenghts\n",
    "plt.xlim(0,500)\n",
    "plt.ylim(0,500)\n",
    "plt.ylabel('nas_delay')\n",
    "plt.xlabel('arr_flights')"
   ]
  },
  {
   "cell_type": "markdown",
   "metadata": {
    "slideshow": {
     "slide_type": "subslide"
    }
   },
   "source": [
    "<strong>TakeAway</strong> here their does not seem to be a corrolation with arriving flights and nas delay,wich I thick is interessting since the more planes comming the more you can expect nas delays to happen,but not according to our data"
   ]
  },
  {
   "cell_type": "code",
   "execution_count": 129,
   "metadata": {
    "slideshow": {
     "slide_type": "slide"
    }
   },
   "outputs": [],
   "source": [
    "weather_ct_mean=df.weather_ct.describe()[1]"
   ]
  },
  {
   "cell_type": "code",
   "execution_count": 130,
   "metadata": {
    "slideshow": {
     "slide_type": "subslide"
    }
   },
   "outputs": [
    {
     "data": {
      "text/plain": [
       "count    1489.000000\n",
       "mean        0.198012\n",
       "std         0.651587\n",
       "min         0.000000\n",
       "25%         0.000000\n",
       "50%         0.000000\n",
       "75%         0.000000\n",
       "max         9.370000\n",
       "Name: weather_ct, dtype: float64"
      ]
     },
     "execution_count": 130,
     "metadata": {},
     "output_type": "execute_result"
    }
   ],
   "source": [
    "df.weather_ct.describe()"
   ]
  },
  {
   "cell_type": "code",
   "execution_count": 131,
   "metadata": {
    "slideshow": {
     "slide_type": "subslide"
    }
   },
   "outputs": [
    {
     "data": {
      "text/plain": [
       "3       56.0\n",
       "36      48.0\n",
       "55      12.0\n",
       "77       2.0\n",
       "98      18.0\n",
       "        ... \n",
       "1616     2.0\n",
       "1618     4.0\n",
       "1622     2.0\n",
       "1623     3.0\n",
       "1631    11.0\n",
       "Name: delay_15, Length: 225, dtype: float64"
      ]
     },
     "execution_count": 131,
     "metadata": {},
     "output_type": "execute_result"
    }
   ],
   "source": [
    "df[df.weather_ct>=weather_ct_mean].delay_15"
   ]
  },
  {
   "cell_type": "code",
   "execution_count": 132,
   "metadata": {
    "slideshow": {
     "slide_type": "subslide"
    }
   },
   "outputs": [
    {
     "data": {
      "image/png": "[encoded data removed]",
      "text/plain": [
       "<Figure size 432x288 with 1 Axes>"
      ]
     },
     "metadata": {
      "needs_background": "light"
     },
     "output_type": "display_data"
    }
   ],
   "source": [
    "#plotting our selected data\n",
    "plt.scatter(x=df[df.weather_ct>=weather_ct_mean].weather_ct,y=df[df.weather_ct>=weather_ct_mean].delay_15,alpha=1/6)\n",
    "#costumizing the plot \n",
    "scale_factor = 0.16\n",
    "xmin, xmax = plt.xlim()\n",
    "ymin, ymax = plt.ylim()\n",
    "plt.xlim(xmin * scale_factor, xmax * scale_factor)\n",
    "plt.ylim(ymin * scale_factor, ymax * scale_factor)\n",
    "#some labels and titles\n",
    "plt.ylabel('delay_15 ')\n",
    "plt.xlabel('weather_ct')\n",
    "plt.title('delay_15 and weather_ct with weater ct above or equal to the mean');"
   ]
  },
  {
   "cell_type": "markdown",
   "metadata": {
    "slideshow": {
     "slide_type": "subslide"
    }
   },
   "source": [
    "<strong>TakeAway</strong>: you can see a strong line going from 1.0 upwards with the darkest point around 1.00 at x and 0-10 at y.This plot was made by getting all the enteries with a weather_ct above or equal to the mean.And from these enteries I dot the delay_15 and weather_ct.and even if you can see the line that is no corrolotion"
   ]
  },
  {
   "cell_type": "code",
   "execution_count": 133,
   "metadata": {
    "slideshow": {
     "slide_type": "slide"
    }
   },
   "outputs": [
    {
     "data": {
      "text/plain": [
       "<matplotlib.axes._subplots.AxesSubplot at 0x7ff4716cf610>"
      ]
     },
     "execution_count": 133,
     "metadata": {},
     "output_type": "execute_result"
    },
    {
     "data": {
      "image/png": "[encoded data removed]",
      "text/plain": [
       "<Figure size 432x288 with 1 Axes>"
      ]
     },
     "metadata": {
      "needs_background": "light"
     },
     "output_type": "display_data"
    }
   ],
   "source": [
    "#using the regplot for this scatterplot\n",
    "sb.regplot(data = df, x = 'arr_flights', y = 'arr_cancelled', fit_reg = False,\n",
    "           x_jitter = 0.5, y_jitter = 0.2, scatter_kws = {'alpha' : 1/3})\n"
   ]
  },
  {
   "cell_type": "markdown",
   "metadata": {},
   "source": [
    "<strong>TakeAway</strong>: here you can see a positiv reletionship between arrving cancelled and arriving flights."
   ]
  },
  {
   "cell_type": "code",
   "execution_count": 134,
   "metadata": {
    "slideshow": {
     "slide_type": "slide"
    }
   },
   "outputs": [
    {
     "data": {
      "text/plain": [
       "<matplotlib.axes._subplots.AxesSubplot at 0x7ff47055e350>"
      ]
     },
     "execution_count": 134,
     "metadata": {},
     "output_type": "execute_result"
    },
    {
     "data": {
      "image/png": "[encoded data removed]",
      "text/plain": [
       "<Figure size 432x288 with 1 Axes>"
      ]
     },
     "metadata": {
      "needs_background": "light"
     },
     "output_type": "display_data"
    }
   ],
   "source": [
    "#simply a zoom in\n",
    "plt.xlim(0,200)\n",
    "plt.ylim(0,100)\n",
    "sb.regplot(data = df, x = 'arr_flights', y = 'arr_cancelled', fit_reg = False,\n",
    "           x_jitter = 0.5, y_jitter = 0.2, scatter_kws = {'alpha' : 1/3})"
   ]
  },
  {
   "cell_type": "markdown",
   "metadata": {
    "slideshow": {
     "slide_type": "subslide"
    }
   },
   "source": [
    "<strong>TakeAway</strong>: In the second plot i zoomed in on the busy part just to get a better idea."
   ]
  },
  {
   "cell_type": "code",
   "execution_count": 135,
   "metadata": {
    "slideshow": {
     "slide_type": "slide"
    }
   },
   "outputs": [
    {
     "data": {
      "text/plain": [
       "SkyWest Airlines Inc.    239\n",
       "Envoy Air                135\n",
       "Delta Air Lines Inc.     116\n",
       "Name: carrier_name, dtype: int64"
      ]
     },
     "execution_count": 135,
     "metadata": {},
     "output_type": "execute_result"
    }
   ],
   "source": [
    "#getting the needed enteries\n",
    "a=df[df.carrier_name=='SkyWest Airlines Inc.' ]\n",
    "b=df[df.carrier_name=='Envoy Air' ]\n",
    "c=df[df.carrier_name=='Delta Air Lines Inc.' ]\n",
    "#merging them togrther using concat\n",
    "a_b_c=pd.concat([a,b,c])\n",
    "a_b_c.carrier_name.value_counts()"
   ]
  },
  {
   "cell_type": "code",
   "execution_count": 136,
   "metadata": {
    "slideshow": {
     "slide_type": "subslide"
    }
   },
   "outputs": [
    {
     "data": {
      "text/plain": [
       "<matplotlib.axes._subplots.AxesSubplot at 0x7ff47053d410>"
      ]
     },
     "execution_count": 136,
     "metadata": {},
     "output_type": "execute_result"
    },
    {
     "data": {
      "image/png": "[encoded data removed]",
      "text/plain": [
       "<Figure size 432x288 with 1 Axes>"
      ]
     },
     "metadata": {
      "needs_background": "light"
     },
     "output_type": "display_data"
    }
   ],
   "source": [
    "#setting the color\n",
    "base_color = sb.color_palette()[0]\n",
    "#with inner=none we just remove the smaller boxplot in the middle of the violin plot\n",
    "sb.violinplot(data = a_b_c, x = 'carrier_name', y = 'arr_flights',inner=None,color=base_color)"
   ]
  },
  {
   "cell_type": "markdown",
   "metadata": {
    "slideshow": {
     "slide_type": "subslide"
    }
   },
   "source": [
    "<strong>TakeAway: </strong>Here you can see the 3 most common carriers in a violin plot.what informations you can see is that the lenth repersents wich values there are and the the thickness repersents how many counts were in this value.So in this plot you can see that the mean of arriving flights is quiet less but the thin line can go for beond"
   ]
  },
  {
   "cell_type": "markdown",
   "metadata": {
    "slideshow": {
     "slide_type": "slide"
    }
   },
   "source": [
    "<strong>talk about some of the relationships you observed in this part of the investigation. How did the feature(s) of interest vary with other features in the dataset?</strong>"
   ]
  },
  {
   "cell_type": "markdown",
   "metadata": {
    "slideshow": {
     "slide_type": "subslide"
    }
   },
   "source": [
    "their seem to be a lot of  differences in carriers like shown in bivariate plot1(that hawian airline was the least common but did not have the least cancallations)and also in the violin plot the mean was far less then the max.I did  not expect such a big differnce"
   ]
  },
  {
   "cell_type": "markdown",
   "metadata": {
    "slideshow": {
     "slide_type": "slide"
    }
   },
   "source": [
    "<strong>Did you observe any interesting relationships between the other features (not the main feature(s) of interest)?</strong>"
   ]
  },
  {
   "cell_type": "markdown",
   "metadata": {
    "slideshow": {
     "slide_type": "subslide"
    }
   },
   "source": [
    "yes the first plot were you can see the mean of the counts in carriers was the the answer to my interessts"
   ]
  },
  {
   "cell_type": "markdown",
   "metadata": {
    "slideshow": {
     "slide_type": "slide"
    }
   },
   "source": [
    "## Multivariate Exploration"
   ]
  },
  {
   "cell_type": "markdown",
   "metadata": {
    "slideshow": {
     "slide_type": "subslide"
    }
   },
   "source": [
    "Create plots of three or more variables to investigate your data even further. Make sure that your investigations are justified, and follow from your work in the previous sections."
   ]
  },
  {
   "cell_type": "code",
   "execution_count": 137,
   "metadata": {
    "slideshow": {
     "slide_type": "slide"
    }
   },
   "outputs": [
    {
     "data": {
      "text/plain": [
       "<seaborn.axisgrid.PairGrid at 0x7ff4701266d0>"
      ]
     },
     "execution_count": 137,
     "metadata": {},
     "output_type": "execute_result"
    },
    {
     "data": {
      "image/png": "[encoded data removed]",
      "text/plain": [
       "<Figure size 720x720 with 22 Axes>"
      ]
     },
     "metadata": {
      "needs_background": "light"
     },
     "output_type": "display_data"
    }
   ],
   "source": [
    "#plotting a faceting with a pairplot\n",
    "sb.pairplot(df, \n",
    "             vars = ['nas_delay','late_aircraft_delay','arr_delay','nas_delay' ], \n",
    "             diag_kind = 'kde', plot_kws = {'alpha': 0.5},palette=\"ch:2.5,-.2,dark=.3\")\n"
   ]
  },
  {
   "cell_type": "markdown",
   "metadata": {
    "slideshow": {
     "slide_type": "subslide"
    }
   },
   "source": [
    "<strong>TakeAway</strong>: here we can see wich delays have corrolations with other delays.most obvious positiv corrolations are between late aircraft and arr_delay,nas_delay and arr_delay"
   ]
  },
  {
   "cell_type": "code",
   "execution_count": 138,
   "metadata": {
    "slideshow": {
     "slide_type": "slide"
    }
   },
   "outputs": [
    {
     "data": {
      "text/plain": [
       "Text(0.5, 0, 'arr_delay')"
      ]
     },
     "execution_count": 138,
     "metadata": {},
     "output_type": "execute_result"
    },
    {
     "data": {
      "image/png": "[encoded data removed]",
      "text/plain": [
       "<Figure size 576x432 with 2 Axes>"
      ]
     },
     "metadata": {
      "needs_background": "light"
     },
     "output_type": "display_data"
    }
   ],
   "source": [
    "plt.figure(figsize=(8,6))\n",
    "plt.xlim(0,500)\n",
    "\n",
    "plt.ylim(0,200)\n",
    "\n",
    "plt.scatter(data = df, x = 'arr_delay', y = 'arr_cancelled', c = 'arr_flights')\n",
    "#creates the color plot on the right side\n",
    "plt.colorbar()\n",
    "plt.ylabel('arr_cancelled')\n",
    "plt.xlabel('arr_delay')"
   ]
  },
  {
   "cell_type": "markdown",
   "metadata": {
    "slideshow": {
     "slide_type": "subslide"
    }
   },
   "source": [
    "<strong>TakeAway:</strong>  between arrive delay and arr_cancelled there does not seem to be a blurry postiv corrolation while the arriving flight seem the be rather steady"
   ]
  },
  {
   "cell_type": "code",
   "execution_count": 139,
   "metadata": {
    "slideshow": {
     "slide_type": "slide"
    }
   },
   "outputs": [
    {
     "data": {
      "text/plain": [
       "Text(0.5, 0, 'arr_delay')"
      ]
     },
     "execution_count": 139,
     "metadata": {},
     "output_type": "execute_result"
    },
    {
     "data": {
      "image/png": "[encoded data removed]",
      "text/plain": [
       "<Figure size 1728x864 with 1 Axes>"
      ]
     },
     "metadata": {
      "needs_background": "light"
     },
     "output_type": "display_data"
    }
   ],
   "source": [
    "plt.figure(figsize = [24, 12])\n",
    "plt.scatter(data = df, x = 'weather_delay', y = 'arr_delay', s = 'arr_flights',alpha=1/5)\n",
    "\n",
    "# dummy series for adding legend\n",
    "sizes = [100,400,800]\n",
    "base_color = sb.color_palette()[0]\n",
    "legend_obj = []\n",
    "for s in sizes:\n",
    "    legend_obj.append(plt.scatter([], [], s = s, color = base_color))\n",
    "plt.legend(legend_obj, sizes)\n",
    "plt.ylabel('weather_delay')\n",
    "plt.xlabel('arr_delay')"
   ]
  },
  {
   "cell_type": "markdown",
   "metadata": {
    "slideshow": {
     "slide_type": "subslide"
    }
   },
   "source": [
    "<strong>TakeAway:</strong> in this plot you can see a posiuv corroletion between weather_delay and arriving delay.you can also see a some randomness in arrivingflights.Meaning that there is no designatet value for arr_delay and weather delay to achive the smallest amount of arriving flights"
   ]
  },
  {
   "cell_type": "code",
   "execution_count": 140,
   "metadata": {
    "slideshow": {
     "slide_type": "slide"
    }
   },
   "outputs": [
    {
     "data": {
      "text/plain": [
       "<seaborn.axisgrid.PairGrid at 0x7ff471024bd0>"
      ]
     },
     "execution_count": 140,
     "metadata": {},
     "output_type": "execute_result"
    },
    {
     "data": {
      "image/png": "[encoded data removed]",
      "text/plain": [
       "<Figure size 540x540 with 12 Axes>"
      ]
     },
     "metadata": {
      "needs_background": "light"
     },
     "output_type": "display_data"
    }
   ],
   "source": [
    "g = sb.PairGrid(data = df, vars = ['arr_flights', 'arr_cancelled', 'arr_delay'])\n",
    "g.map_diag(plt.hist)\n",
    "#creates a scatter for the off diagnole values\n",
    "g.map_offdiag(plt.scatter,alpha=1/5)"
   ]
  },
  {
   "cell_type": "markdown",
   "metadata": {
    "slideshow": {
     "slide_type": "subslide"
    }
   },
   "source": [
    "<strong>Takeaway</strong>: here you can see the corrolation between several arr variables.The clearest corrolation is between arr_cancelled arr_flights(positiv corrolation)"
   ]
  },
  {
   "cell_type": "code",
   "execution_count": 141,
   "metadata": {
    "slideshow": {
     "slide_type": "skip"
    }
   },
   "outputs": [
    {
     "name": "stdout",
     "output_type": "stream",
     "text": [
      "<class 'pandas.core.frame.DataFrame'>\n",
      "Int64Index: 1489 entries, 0 to 1650\n",
      "Data columns (total 21 columns):\n",
      " #   Column               Non-Null Count  Dtype  \n",
      "---  ------               --------------  -----  \n",
      " 0   year                 1489 non-null   int64  \n",
      " 1   month                1489 non-null   int64  \n",
      " 2   carrier              1489 non-null   object \n",
      " 3   carrier_name         1489 non-null   object \n",
      " 4   airport              1489 non-null   object \n",
      " 5   airport_name         1489 non-null   object \n",
      " 6   arr_flights          1489 non-null   float64\n",
      " 7   delay_15             1489 non-null   float64\n",
      " 8   carrier_ct           1489 non-null   float64\n",
      " 9   weather_ct           1489 non-null   float64\n",
      " 10  nas_ct               1489 non-null   float64\n",
      " 11  security_ct          1489 non-null   float64\n",
      " 12  late_aircraft_ct     1489 non-null   float64\n",
      " 13  arr_cancelled        1489 non-null   float64\n",
      " 14  arr_diverted         1489 non-null   float64\n",
      " 15  arr_delay            1489 non-null   float64\n",
      " 16  carrier_delay        1489 non-null   float64\n",
      " 17  weather_delay        1489 non-null   float64\n",
      " 18  nas_delay            1489 non-null   float64\n",
      " 19  security_delay       1489 non-null   float64\n",
      " 20  late_aircraft_delay  1489 non-null   float64\n",
      "dtypes: float64(15), int64(2), object(4)\n",
      "memory usage: 295.9+ KB\n"
     ]
    }
   ],
   "source": [
    "df.info()"
   ]
  },
  {
   "cell_type": "markdown",
   "metadata": {
    "slideshow": {
     "slide_type": "subslide"
    }
   },
   "source": [
    "here we can see that there is a corrolation between the variables arr_delay late aircraft and nas delay"
   ]
  },
  {
   "cell_type": "markdown",
   "metadata": {
    "slideshow": {
     "slide_type": "subslide"
    }
   },
   "source": [
    "<strong>Talk about some of the relationships you observed in this part of the investigation. Were there features that strengthened each other in terms of looking at your feature(s) of interest?</strong>"
   ]
  },
  {
   "cell_type": "markdown",
   "metadata": {
    "slideshow": {
     "slide_type": "fragment"
    }
   },
   "source": [
    "the second facething plot (especially the corrolation between arriving flight and cancelation of flights)supported sthe scatter plot were I especially plottet these two variables."
   ]
  },
  {
   "cell_type": "markdown",
   "metadata": {
    "slideshow": {
     "slide_type": "subslide"
    }
   },
   "source": [
    "<strong>Were there any interesting or surprising interactions between features?</strong>"
   ]
  },
  {
   "cell_type": "markdown",
   "metadata": {
    "slideshow": {
     "slide_type": "fragment"
    }
   },
   "source": [
    "we could see in plot 1 that some delays have  infact relationships since in bivary plot 2 we did not see that(also becouse these were only 2 variables)"
   ]
  },
  {
   "cell_type": "code",
   "execution_count": 142,
   "metadata": {
    "slideshow": {
     "slide_type": "skip"
    }
   },
   "outputs": [
    {
     "data": {
      "text/html": [
       "<div>\n",
       "<style scoped>\n",
       "    .dataframe tbody tr th:only-of-type {\n",
       "        vertical-align: middle;\n",
       "    }\n",
       "\n",
       "    .dataframe tbody tr th {\n",
       "        vertical-align: top;\n",
       "    }\n",
       "\n",
       "    .dataframe thead th {\n",
       "        text-align: right;\n",
       "    }\n",
       "</style>\n",
       "<table border=\"1\" class=\"dataframe\">\n",
       "  <thead>\n",
       "    <tr style=\"text-align: right;\">\n",
       "      <th></th>\n",
       "      <th>year</th>\n",
       "      <th>month</th>\n",
       "      <th>carrier</th>\n",
       "      <th>carrier_name</th>\n",
       "      <th>airport</th>\n",
       "      <th>airport_name</th>\n",
       "      <th>arr_flights</th>\n",
       "      <th>delay_15</th>\n",
       "      <th>carrier_ct</th>\n",
       "      <th>weather_ct</th>\n",
       "      <th>...</th>\n",
       "      <th>security_ct</th>\n",
       "      <th>late_aircraft_ct</th>\n",
       "      <th>arr_cancelled</th>\n",
       "      <th>arr_diverted</th>\n",
       "      <th>arr_delay</th>\n",
       "      <th>carrier_delay</th>\n",
       "      <th>weather_delay</th>\n",
       "      <th>nas_delay</th>\n",
       "      <th>security_delay</th>\n",
       "      <th>late_aircraft_delay</th>\n",
       "    </tr>\n",
       "  </thead>\n",
       "  <tbody>\n",
       "    <tr>\n",
       "      <th>0</th>\n",
       "      <td>2020</td>\n",
       "      <td>4</td>\n",
       "      <td>9E</td>\n",
       "      <td>Endeavor Air Inc.</td>\n",
       "      <td>AEX</td>\n",
       "      <td>Alexandria, LA: Alexandria International</td>\n",
       "      <td>47.0</td>\n",
       "      <td>5.0</td>\n",
       "      <td>1.78</td>\n",
       "      <td>0.00</td>\n",
       "      <td>...</td>\n",
       "      <td>0.0</td>\n",
       "      <td>0.00</td>\n",
       "      <td>6.0</td>\n",
       "      <td>0.0</td>\n",
       "      <td>172.0</td>\n",
       "      <td>104.0</td>\n",
       "      <td>0.0</td>\n",
       "      <td>68.0</td>\n",
       "      <td>0.0</td>\n",
       "      <td>0.0</td>\n",
       "    </tr>\n",
       "    <tr>\n",
       "      <th>1</th>\n",
       "      <td>2020</td>\n",
       "      <td>4</td>\n",
       "      <td>9E</td>\n",
       "      <td>Endeavor Air Inc.</td>\n",
       "      <td>AGS</td>\n",
       "      <td>Augusta, GA: Augusta Regional at Bush Field</td>\n",
       "      <td>86.0</td>\n",
       "      <td>4.0</td>\n",
       "      <td>1.97</td>\n",
       "      <td>0.00</td>\n",
       "      <td>...</td>\n",
       "      <td>0.0</td>\n",
       "      <td>0.93</td>\n",
       "      <td>15.0</td>\n",
       "      <td>0.0</td>\n",
       "      <td>277.0</td>\n",
       "      <td>180.0</td>\n",
       "      <td>0.0</td>\n",
       "      <td>35.0</td>\n",
       "      <td>0.0</td>\n",
       "      <td>62.0</td>\n",
       "    </tr>\n",
       "    <tr>\n",
       "      <th>2</th>\n",
       "      <td>2020</td>\n",
       "      <td>4</td>\n",
       "      <td>9E</td>\n",
       "      <td>Endeavor Air Inc.</td>\n",
       "      <td>ALB</td>\n",
       "      <td>Albany, NY: Albany International</td>\n",
       "      <td>1.0</td>\n",
       "      <td>0.0</td>\n",
       "      <td>0.00</td>\n",
       "      <td>0.00</td>\n",
       "      <td>...</td>\n",
       "      <td>0.0</td>\n",
       "      <td>0.00</td>\n",
       "      <td>0.0</td>\n",
       "      <td>0.0</td>\n",
       "      <td>0.0</td>\n",
       "      <td>0.0</td>\n",
       "      <td>0.0</td>\n",
       "      <td>0.0</td>\n",
       "      <td>0.0</td>\n",
       "      <td>0.0</td>\n",
       "    </tr>\n",
       "    <tr>\n",
       "      <th>3</th>\n",
       "      <td>2020</td>\n",
       "      <td>4</td>\n",
       "      <td>9E</td>\n",
       "      <td>Endeavor Air Inc.</td>\n",
       "      <td>ATL</td>\n",
       "      <td>Atlanta, GA: Hartsfield-Jackson Atlanta Intern...</td>\n",
       "      <td>1314.0</td>\n",
       "      <td>56.0</td>\n",
       "      <td>36.33</td>\n",
       "      <td>2.45</td>\n",
       "      <td>...</td>\n",
       "      <td>0.0</td>\n",
       "      <td>9.33</td>\n",
       "      <td>288.0</td>\n",
       "      <td>1.0</td>\n",
       "      <td>4619.0</td>\n",
       "      <td>3437.0</td>\n",
       "      <td>251.0</td>\n",
       "      <td>270.0</td>\n",
       "      <td>0.0</td>\n",
       "      <td>661.0</td>\n",
       "    </tr>\n",
       "    <tr>\n",
       "      <th>4</th>\n",
       "      <td>2020</td>\n",
       "      <td>4</td>\n",
       "      <td>9E</td>\n",
       "      <td>Endeavor Air Inc.</td>\n",
       "      <td>ATW</td>\n",
       "      <td>Appleton, WI: Appleton International</td>\n",
       "      <td>1.0</td>\n",
       "      <td>0.0</td>\n",
       "      <td>0.00</td>\n",
       "      <td>0.00</td>\n",
       "      <td>...</td>\n",
       "      <td>0.0</td>\n",
       "      <td>0.00</td>\n",
       "      <td>0.0</td>\n",
       "      <td>0.0</td>\n",
       "      <td>0.0</td>\n",
       "      <td>0.0</td>\n",
       "      <td>0.0</td>\n",
       "      <td>0.0</td>\n",
       "      <td>0.0</td>\n",
       "      <td>0.0</td>\n",
       "    </tr>\n",
       "    <tr>\n",
       "      <th>...</th>\n",
       "      <td>...</td>\n",
       "      <td>...</td>\n",
       "      <td>...</td>\n",
       "      <td>...</td>\n",
       "      <td>...</td>\n",
       "      <td>...</td>\n",
       "      <td>...</td>\n",
       "      <td>...</td>\n",
       "      <td>...</td>\n",
       "      <td>...</td>\n",
       "      <td>...</td>\n",
       "      <td>...</td>\n",
       "      <td>...</td>\n",
       "      <td>...</td>\n",
       "      <td>...</td>\n",
       "      <td>...</td>\n",
       "      <td>...</td>\n",
       "      <td>...</td>\n",
       "      <td>...</td>\n",
       "      <td>...</td>\n",
       "      <td>...</td>\n",
       "    </tr>\n",
       "    <tr>\n",
       "      <th>1646</th>\n",
       "      <td>2020</td>\n",
       "      <td>4</td>\n",
       "      <td>YX</td>\n",
       "      <td>Republic Airline</td>\n",
       "      <td>TPA</td>\n",
       "      <td>Tampa, FL: Tampa International</td>\n",
       "      <td>12.0</td>\n",
       "      <td>0.0</td>\n",
       "      <td>0.00</td>\n",
       "      <td>0.00</td>\n",
       "      <td>...</td>\n",
       "      <td>0.0</td>\n",
       "      <td>0.00</td>\n",
       "      <td>8.0</td>\n",
       "      <td>0.0</td>\n",
       "      <td>0.0</td>\n",
       "      <td>0.0</td>\n",
       "      <td>0.0</td>\n",
       "      <td>0.0</td>\n",
       "      <td>0.0</td>\n",
       "      <td>0.0</td>\n",
       "    </tr>\n",
       "    <tr>\n",
       "      <th>1647</th>\n",
       "      <td>2020</td>\n",
       "      <td>4</td>\n",
       "      <td>YX</td>\n",
       "      <td>Republic Airline</td>\n",
       "      <td>TUS</td>\n",
       "      <td>Tucson, AZ: Tucson International</td>\n",
       "      <td>30.0</td>\n",
       "      <td>0.0</td>\n",
       "      <td>0.00</td>\n",
       "      <td>0.00</td>\n",
       "      <td>...</td>\n",
       "      <td>0.0</td>\n",
       "      <td>0.00</td>\n",
       "      <td>1.0</td>\n",
       "      <td>0.0</td>\n",
       "      <td>0.0</td>\n",
       "      <td>0.0</td>\n",
       "      <td>0.0</td>\n",
       "      <td>0.0</td>\n",
       "      <td>0.0</td>\n",
       "      <td>0.0</td>\n",
       "    </tr>\n",
       "    <tr>\n",
       "      <th>1648</th>\n",
       "      <td>2020</td>\n",
       "      <td>4</td>\n",
       "      <td>YX</td>\n",
       "      <td>Republic Airline</td>\n",
       "      <td>TYS</td>\n",
       "      <td>Knoxville, TN: McGhee Tyson</td>\n",
       "      <td>74.0</td>\n",
       "      <td>1.0</td>\n",
       "      <td>0.00</td>\n",
       "      <td>0.00</td>\n",
       "      <td>...</td>\n",
       "      <td>0.0</td>\n",
       "      <td>1.00</td>\n",
       "      <td>31.0</td>\n",
       "      <td>0.0</td>\n",
       "      <td>41.0</td>\n",
       "      <td>0.0</td>\n",
       "      <td>0.0</td>\n",
       "      <td>0.0</td>\n",
       "      <td>0.0</td>\n",
       "      <td>41.0</td>\n",
       "    </tr>\n",
       "    <tr>\n",
       "      <th>1649</th>\n",
       "      <td>2020</td>\n",
       "      <td>4</td>\n",
       "      <td>YX</td>\n",
       "      <td>Republic Airline</td>\n",
       "      <td>VPS</td>\n",
       "      <td>Valparaiso, FL: Eglin AFB Destin Fort Walton B...</td>\n",
       "      <td>6.0</td>\n",
       "      <td>1.0</td>\n",
       "      <td>0.00</td>\n",
       "      <td>0.00</td>\n",
       "      <td>...</td>\n",
       "      <td>0.0</td>\n",
       "      <td>0.00</td>\n",
       "      <td>2.0</td>\n",
       "      <td>0.0</td>\n",
       "      <td>59.0</td>\n",
       "      <td>0.0</td>\n",
       "      <td>0.0</td>\n",
       "      <td>59.0</td>\n",
       "      <td>0.0</td>\n",
       "      <td>0.0</td>\n",
       "    </tr>\n",
       "    <tr>\n",
       "      <th>1650</th>\n",
       "      <td>2020</td>\n",
       "      <td>4</td>\n",
       "      <td>YX</td>\n",
       "      <td>Republic Airline</td>\n",
       "      <td>XNA</td>\n",
       "      <td>Fayetteville, AR: Northwest Arkansas Regional</td>\n",
       "      <td>110.0</td>\n",
       "      <td>1.0</td>\n",
       "      <td>0.87</td>\n",
       "      <td>0.00</td>\n",
       "      <td>...</td>\n",
       "      <td>0.0</td>\n",
       "      <td>0.00</td>\n",
       "      <td>36.0</td>\n",
       "      <td>0.0</td>\n",
       "      <td>30.0</td>\n",
       "      <td>26.0</td>\n",
       "      <td>0.0</td>\n",
       "      <td>4.0</td>\n",
       "      <td>0.0</td>\n",
       "      <td>0.0</td>\n",
       "    </tr>\n",
       "  </tbody>\n",
       "</table>\n",
       "<p>1489 rows × 21 columns</p>\n",
       "</div>"
      ],
      "text/plain": [
       "      year  month carrier       carrier_name airport  \\\n",
       "0     2020      4      9E  Endeavor Air Inc.     AEX   \n",
       "1     2020      4      9E  Endeavor Air Inc.     AGS   \n",
       "2     2020      4      9E  Endeavor Air Inc.     ALB   \n",
       "3     2020      4      9E  Endeavor Air Inc.     ATL   \n",
       "4     2020      4      9E  Endeavor Air Inc.     ATW   \n",
       "...    ...    ...     ...                ...     ...   \n",
       "1646  2020      4      YX   Republic Airline     TPA   \n",
       "1647  2020      4      YX   Republic Airline     TUS   \n",
       "1648  2020      4      YX   Republic Airline     TYS   \n",
       "1649  2020      4      YX   Republic Airline     VPS   \n",
       "1650  2020      4      YX   Republic Airline     XNA   \n",
       "\n",
       "                                           airport_name  arr_flights  \\\n",
       "0              Alexandria, LA: Alexandria International         47.0   \n",
       "1           Augusta, GA: Augusta Regional at Bush Field         86.0   \n",
       "2                      Albany, NY: Albany International          1.0   \n",
       "3     Atlanta, GA: Hartsfield-Jackson Atlanta Intern...       1314.0   \n",
       "4                  Appleton, WI: Appleton International          1.0   \n",
       "...                                                 ...          ...   \n",
       "1646                     Tampa, FL: Tampa International         12.0   \n",
       "1647                   Tucson, AZ: Tucson International         30.0   \n",
       "1648                        Knoxville, TN: McGhee Tyson         74.0   \n",
       "1649  Valparaiso, FL: Eglin AFB Destin Fort Walton B...          6.0   \n",
       "1650      Fayetteville, AR: Northwest Arkansas Regional        110.0   \n",
       "\n",
       "      delay_15  carrier_ct  weather_ct  ...  security_ct  late_aircraft_ct  \\\n",
       "0          5.0        1.78        0.00  ...          0.0              0.00   \n",
       "1          4.0        1.97        0.00  ...          0.0              0.93   \n",
       "2          0.0        0.00        0.00  ...          0.0              0.00   \n",
       "3         56.0       36.33        2.45  ...          0.0              9.33   \n",
       "4          0.0        0.00        0.00  ...          0.0              0.00   \n",
       "...        ...         ...         ...  ...          ...               ...   \n",
       "1646       0.0        0.00        0.00  ...          0.0              0.00   \n",
       "1647       0.0        0.00        0.00  ...          0.0              0.00   \n",
       "1648       1.0        0.00        0.00  ...          0.0              1.00   \n",
       "1649       1.0        0.00        0.00  ...          0.0              0.00   \n",
       "1650       1.0        0.87        0.00  ...          0.0              0.00   \n",
       "\n",
       "      arr_cancelled  arr_diverted  arr_delay  carrier_delay  weather_delay  \\\n",
       "0               6.0           0.0      172.0          104.0            0.0   \n",
       "1              15.0           0.0      277.0          180.0            0.0   \n",
       "2               0.0           0.0        0.0            0.0            0.0   \n",
       "3             288.0           1.0     4619.0         3437.0          251.0   \n",
       "4               0.0           0.0        0.0            0.0            0.0   \n",
       "...             ...           ...        ...            ...            ...   \n",
       "1646            8.0           0.0        0.0            0.0            0.0   \n",
       "1647            1.0           0.0        0.0            0.0            0.0   \n",
       "1648           31.0           0.0       41.0            0.0            0.0   \n",
       "1649            2.0           0.0       59.0            0.0            0.0   \n",
       "1650           36.0           0.0       30.0           26.0            0.0   \n",
       "\n",
       "      nas_delay  security_delay  late_aircraft_delay  \n",
       "0          68.0             0.0                  0.0  \n",
       "1          35.0             0.0                 62.0  \n",
       "2           0.0             0.0                  0.0  \n",
       "3         270.0             0.0                661.0  \n",
       "4           0.0             0.0                  0.0  \n",
       "...         ...             ...                  ...  \n",
       "1646        0.0             0.0                  0.0  \n",
       "1647        0.0             0.0                  0.0  \n",
       "1648        0.0             0.0                 41.0  \n",
       "1649       59.0             0.0                  0.0  \n",
       "1650        4.0             0.0                  0.0  \n",
       "\n",
       "[1489 rows x 21 columns]"
      ]
     },
     "execution_count": 142,
     "metadata": {},
     "output_type": "execute_result"
    }
   ],
   "source": [
    "df"
   ]
  },
  {
   "cell_type": "code",
   "execution_count": null,
   "metadata": {},
   "outputs": [],
   "source": []
  }
 ],
 "metadata": {
  "celltoolbar": "Slideshow",
  "kernelspec": {
   "display_name": "Python 3",
   "language": "python",
   "name": "python3"
  },
  "language_info": {
   "codemirror_mode": {
    "name": "ipython",
    "version": 3
   },
   "file_extension": ".py",
   "mimetype": "text/x-python",
   "name": "python",
   "nbconvert_exporter": "python",
   "pygments_lexer": "ipython3",
   "version": "3.7.6"
  }
 },
 "nbformat": 4,
 "nbformat_minor": 4
}
